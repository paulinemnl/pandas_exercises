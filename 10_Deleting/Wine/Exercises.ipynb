{
 "cells": [
  {
   "cell_type": "markdown",
   "metadata": {
    "pycharm": {
     "name": "#%% md\n"
    }
   },
   "source": [
    "# Wine"
   ]
  },
  {
   "cell_type": "markdown",
   "metadata": {
    "pycharm": {
     "name": "#%% md\n"
    }
   },
   "source": [
    "### Introduction:\n",
    "\n",
    "This exercise is a adaptation from the UCI Wine dataset.\n",
    "The only pupose is to practice deleting data with pandas.\n",
    "\n",
    "### Step 1. Import the necessary libraries"
   ]
  },
  {
   "cell_type": "code",
   "execution_count": 32,
   "metadata": {
    "collapsed": false,
    "pycharm": {
     "name": "#%%\n"
    }
   },
   "outputs": [],
   "source": [
    "import pandas as pd\n",
    "import numpy as np"
   ]
  },
  {
   "cell_type": "markdown",
   "metadata": {
    "pycharm": {
     "name": "#%% md\n"
    }
   },
   "source": [
    "### Step 2. Import the dataset from this [address](https://archive.ics.uci.edu/ml/machine-learning-databases/wine/wine.data). "
   ]
  },
  {
   "cell_type": "markdown",
   "metadata": {
    "pycharm": {
     "name": "#%% md\n"
    }
   },
   "source": [
    "### Step 3. Assign it to a variable called wine"
   ]
  },
  {
   "cell_type": "code",
   "execution_count": 47,
   "metadata": {
    "collapsed": false,
    "pycharm": {
     "name": "#%%\n"
    }
   },
   "outputs": [
    {
     "data": {
      "text/plain": "     0      1     2     3     4    5     6     7     8     9      10    11  \\\n0     1  14.23  1.71  2.43  15.6  127  2.80  3.06  0.28  2.29   5.64  1.04   \n1     1  13.20  1.78  2.14  11.2  100  2.65  2.76  0.26  1.28   4.38  1.05   \n2     1  13.16  2.36  2.67  18.6  101  2.80  3.24  0.30  2.81   5.68  1.03   \n3     1  14.37  1.95  2.50  16.8  113  3.85  3.49  0.24  2.18   7.80  0.86   \n4     1  13.24  2.59  2.87  21.0  118  2.80  2.69  0.39  1.82   4.32  1.04   \n..   ..    ...   ...   ...   ...  ...   ...   ...   ...   ...    ...   ...   \n173   3  13.71  5.65  2.45  20.5   95  1.68  0.61  0.52  1.06   7.70  0.64   \n174   3  13.40  3.91  2.48  23.0  102  1.80  0.75  0.43  1.41   7.30  0.70   \n175   3  13.27  4.28  2.26  20.0  120  1.59  0.69  0.43  1.35  10.20  0.59   \n176   3  13.17  2.59  2.37  20.0  120  1.65  0.68  0.53  1.46   9.30  0.60   \n177   3  14.13  4.10  2.74  24.5   96  2.05  0.76  0.56  1.35   9.20  0.61   \n\n       12    13  \n0    3.92  1065  \n1    3.40  1050  \n2    3.17  1185  \n3    3.45  1480  \n4    2.93   735  \n..    ...   ...  \n173  1.74   740  \n174  1.56   750  \n175  1.56   835  \n176  1.62   840  \n177  1.60   560  \n\n[178 rows x 14 columns]",
      "text/html": "<div>\n<style scoped>\n    .dataframe tbody tr th:only-of-type {\n        vertical-align: middle;\n    }\n\n    .dataframe tbody tr th {\n        vertical-align: top;\n    }\n\n    .dataframe thead th {\n        text-align: right;\n    }\n</style>\n<table border=\"1\" class=\"dataframe\">\n  <thead>\n    <tr style=\"text-align: right;\">\n      <th></th>\n      <th>0</th>\n      <th>1</th>\n      <th>2</th>\n      <th>3</th>\n      <th>4</th>\n      <th>5</th>\n      <th>6</th>\n      <th>7</th>\n      <th>8</th>\n      <th>9</th>\n      <th>10</th>\n      <th>11</th>\n      <th>12</th>\n      <th>13</th>\n    </tr>\n  </thead>\n  <tbody>\n    <tr>\n      <th>0</th>\n      <td>1</td>\n      <td>14.23</td>\n      <td>1.71</td>\n      <td>2.43</td>\n      <td>15.6</td>\n      <td>127</td>\n      <td>2.80</td>\n      <td>3.06</td>\n      <td>0.28</td>\n      <td>2.29</td>\n      <td>5.64</td>\n      <td>1.04</td>\n      <td>3.92</td>\n      <td>1065</td>\n    </tr>\n    <tr>\n      <th>1</th>\n      <td>1</td>\n      <td>13.20</td>\n      <td>1.78</td>\n      <td>2.14</td>\n      <td>11.2</td>\n      <td>100</td>\n      <td>2.65</td>\n      <td>2.76</td>\n      <td>0.26</td>\n      <td>1.28</td>\n      <td>4.38</td>\n      <td>1.05</td>\n      <td>3.40</td>\n      <td>1050</td>\n    </tr>\n    <tr>\n      <th>2</th>\n      <td>1</td>\n      <td>13.16</td>\n      <td>2.36</td>\n      <td>2.67</td>\n      <td>18.6</td>\n      <td>101</td>\n      <td>2.80</td>\n      <td>3.24</td>\n      <td>0.30</td>\n      <td>2.81</td>\n      <td>5.68</td>\n      <td>1.03</td>\n      <td>3.17</td>\n      <td>1185</td>\n    </tr>\n    <tr>\n      <th>3</th>\n      <td>1</td>\n      <td>14.37</td>\n      <td>1.95</td>\n      <td>2.50</td>\n      <td>16.8</td>\n      <td>113</td>\n      <td>3.85</td>\n      <td>3.49</td>\n      <td>0.24</td>\n      <td>2.18</td>\n      <td>7.80</td>\n      <td>0.86</td>\n      <td>3.45</td>\n      <td>1480</td>\n    </tr>\n    <tr>\n      <th>4</th>\n      <td>1</td>\n      <td>13.24</td>\n      <td>2.59</td>\n      <td>2.87</td>\n      <td>21.0</td>\n      <td>118</td>\n      <td>2.80</td>\n      <td>2.69</td>\n      <td>0.39</td>\n      <td>1.82</td>\n      <td>4.32</td>\n      <td>1.04</td>\n      <td>2.93</td>\n      <td>735</td>\n    </tr>\n    <tr>\n      <th>...</th>\n      <td>...</td>\n      <td>...</td>\n      <td>...</td>\n      <td>...</td>\n      <td>...</td>\n      <td>...</td>\n      <td>...</td>\n      <td>...</td>\n      <td>...</td>\n      <td>...</td>\n      <td>...</td>\n      <td>...</td>\n      <td>...</td>\n      <td>...</td>\n    </tr>\n    <tr>\n      <th>173</th>\n      <td>3</td>\n      <td>13.71</td>\n      <td>5.65</td>\n      <td>2.45</td>\n      <td>20.5</td>\n      <td>95</td>\n      <td>1.68</td>\n      <td>0.61</td>\n      <td>0.52</td>\n      <td>1.06</td>\n      <td>7.70</td>\n      <td>0.64</td>\n      <td>1.74</td>\n      <td>740</td>\n    </tr>\n    <tr>\n      <th>174</th>\n      <td>3</td>\n      <td>13.40</td>\n      <td>3.91</td>\n      <td>2.48</td>\n      <td>23.0</td>\n      <td>102</td>\n      <td>1.80</td>\n      <td>0.75</td>\n      <td>0.43</td>\n      <td>1.41</td>\n      <td>7.30</td>\n      <td>0.70</td>\n      <td>1.56</td>\n      <td>750</td>\n    </tr>\n    <tr>\n      <th>175</th>\n      <td>3</td>\n      <td>13.27</td>\n      <td>4.28</td>\n      <td>2.26</td>\n      <td>20.0</td>\n      <td>120</td>\n      <td>1.59</td>\n      <td>0.69</td>\n      <td>0.43</td>\n      <td>1.35</td>\n      <td>10.20</td>\n      <td>0.59</td>\n      <td>1.56</td>\n      <td>835</td>\n    </tr>\n    <tr>\n      <th>176</th>\n      <td>3</td>\n      <td>13.17</td>\n      <td>2.59</td>\n      <td>2.37</td>\n      <td>20.0</td>\n      <td>120</td>\n      <td>1.65</td>\n      <td>0.68</td>\n      <td>0.53</td>\n      <td>1.46</td>\n      <td>9.30</td>\n      <td>0.60</td>\n      <td>1.62</td>\n      <td>840</td>\n    </tr>\n    <tr>\n      <th>177</th>\n      <td>3</td>\n      <td>14.13</td>\n      <td>4.10</td>\n      <td>2.74</td>\n      <td>24.5</td>\n      <td>96</td>\n      <td>2.05</td>\n      <td>0.76</td>\n      <td>0.56</td>\n      <td>1.35</td>\n      <td>9.20</td>\n      <td>0.61</td>\n      <td>1.60</td>\n      <td>560</td>\n    </tr>\n  </tbody>\n</table>\n<p>178 rows × 14 columns</p>\n</div>"
     },
     "execution_count": 47,
     "metadata": {},
     "output_type": "execute_result"
    }
   ],
   "source": [
    "url = 'https://archive.ics.uci.edu/ml/machine-learning-databases/wine/wine.data'\n",
    "wine = pd.read_csv(url, header=None)\n",
    "wine"
   ]
  },
  {
   "cell_type": "markdown",
   "metadata": {
    "pycharm": {
     "name": "#%% md\n"
    }
   },
   "source": [
    "### Step 4. Delete the first, fourth, seventh, nineth, eleventh, thirteenth and fourteenth columns"
   ]
  },
  {
   "cell_type": "code",
   "execution_count": 48,
   "metadata": {
    "collapsed": false,
    "pycharm": {
     "name": "#%%\n"
    }
   },
   "outputs": [
    {
     "data": {
      "text/plain": "        1     2     4    5     7     9     11\n0    14.23  1.71  15.6  127  3.06  2.29  1.04\n1    13.20  1.78  11.2  100  2.76  1.28  1.05\n2    13.16  2.36  18.6  101  3.24  2.81  1.03\n3    14.37  1.95  16.8  113  3.49  2.18  0.86\n4    13.24  2.59  21.0  118  2.69  1.82  1.04\n..     ...   ...   ...  ...   ...   ...   ...\n173  13.71  5.65  20.5   95  0.61  1.06  0.64\n174  13.40  3.91  23.0  102  0.75  1.41  0.70\n175  13.27  4.28  20.0  120  0.69  1.35  0.59\n176  13.17  2.59  20.0  120  0.68  1.46  0.60\n177  14.13  4.10  24.5   96  0.76  1.35  0.61\n\n[178 rows x 7 columns]",
      "text/html": "<div>\n<style scoped>\n    .dataframe tbody tr th:only-of-type {\n        vertical-align: middle;\n    }\n\n    .dataframe tbody tr th {\n        vertical-align: top;\n    }\n\n    .dataframe thead th {\n        text-align: right;\n    }\n</style>\n<table border=\"1\" class=\"dataframe\">\n  <thead>\n    <tr style=\"text-align: right;\">\n      <th></th>\n      <th>1</th>\n      <th>2</th>\n      <th>4</th>\n      <th>5</th>\n      <th>7</th>\n      <th>9</th>\n      <th>11</th>\n    </tr>\n  </thead>\n  <tbody>\n    <tr>\n      <th>0</th>\n      <td>14.23</td>\n      <td>1.71</td>\n      <td>15.6</td>\n      <td>127</td>\n      <td>3.06</td>\n      <td>2.29</td>\n      <td>1.04</td>\n    </tr>\n    <tr>\n      <th>1</th>\n      <td>13.20</td>\n      <td>1.78</td>\n      <td>11.2</td>\n      <td>100</td>\n      <td>2.76</td>\n      <td>1.28</td>\n      <td>1.05</td>\n    </tr>\n    <tr>\n      <th>2</th>\n      <td>13.16</td>\n      <td>2.36</td>\n      <td>18.6</td>\n      <td>101</td>\n      <td>3.24</td>\n      <td>2.81</td>\n      <td>1.03</td>\n    </tr>\n    <tr>\n      <th>3</th>\n      <td>14.37</td>\n      <td>1.95</td>\n      <td>16.8</td>\n      <td>113</td>\n      <td>3.49</td>\n      <td>2.18</td>\n      <td>0.86</td>\n    </tr>\n    <tr>\n      <th>4</th>\n      <td>13.24</td>\n      <td>2.59</td>\n      <td>21.0</td>\n      <td>118</td>\n      <td>2.69</td>\n      <td>1.82</td>\n      <td>1.04</td>\n    </tr>\n    <tr>\n      <th>...</th>\n      <td>...</td>\n      <td>...</td>\n      <td>...</td>\n      <td>...</td>\n      <td>...</td>\n      <td>...</td>\n      <td>...</td>\n    </tr>\n    <tr>\n      <th>173</th>\n      <td>13.71</td>\n      <td>5.65</td>\n      <td>20.5</td>\n      <td>95</td>\n      <td>0.61</td>\n      <td>1.06</td>\n      <td>0.64</td>\n    </tr>\n    <tr>\n      <th>174</th>\n      <td>13.40</td>\n      <td>3.91</td>\n      <td>23.0</td>\n      <td>102</td>\n      <td>0.75</td>\n      <td>1.41</td>\n      <td>0.70</td>\n    </tr>\n    <tr>\n      <th>175</th>\n      <td>13.27</td>\n      <td>4.28</td>\n      <td>20.0</td>\n      <td>120</td>\n      <td>0.69</td>\n      <td>1.35</td>\n      <td>0.59</td>\n    </tr>\n    <tr>\n      <th>176</th>\n      <td>13.17</td>\n      <td>2.59</td>\n      <td>20.0</td>\n      <td>120</td>\n      <td>0.68</td>\n      <td>1.46</td>\n      <td>0.60</td>\n    </tr>\n    <tr>\n      <th>177</th>\n      <td>14.13</td>\n      <td>4.10</td>\n      <td>24.5</td>\n      <td>96</td>\n      <td>0.76</td>\n      <td>1.35</td>\n      <td>0.61</td>\n    </tr>\n  </tbody>\n</table>\n<p>178 rows × 7 columns</p>\n</div>"
     },
     "execution_count": 48,
     "metadata": {},
     "output_type": "execute_result"
    }
   ],
   "source": [
    "wine.drop(wine.columns[[0, 3, 6, 8, 10, 12, 13]], axis=1, inplace=True)\n",
    "wine\n",
    "# wine.drop([0, 3, 6, 8, 10, 12, 13], axis=1, inplace=True)  # так как колонки и названы номерами\n",
    "# wine"
   ]
  },
  {
   "cell_type": "markdown",
   "metadata": {
    "pycharm": {
     "name": "#%% md\n"
    }
   },
   "source": [
    "### Step 5. Assign the columns as below:\n",
    "\n",
    "The attributes are (donated by Riccardo Leardi, riclea '@' anchem.unige.it):  \n",
    "1) alcohol  \n",
    "2) malic_acid  \n",
    "3) alcalinity_of_ash  \n",
    "4) magnesium  \n",
    "5) flavanoids  \n",
    "6) proanthocyanins  \n",
    "7) hue "
   ]
  },
  {
   "cell_type": "code",
   "execution_count": 49,
   "metadata": {
    "collapsed": false,
    "pycharm": {
     "name": "#%%\n"
    }
   },
   "outputs": [
    {
     "data": {
      "text/plain": "     alcohol  malic_acid  alcalinity_of_ash  magnesium  flavanoids  \\\n0      14.23        1.71               15.6        127        3.06   \n1      13.20        1.78               11.2        100        2.76   \n2      13.16        2.36               18.6        101        3.24   \n3      14.37        1.95               16.8        113        3.49   \n4      13.24        2.59               21.0        118        2.69   \n..       ...         ...                ...        ...         ...   \n173    13.71        5.65               20.5         95        0.61   \n174    13.40        3.91               23.0        102        0.75   \n175    13.27        4.28               20.0        120        0.69   \n176    13.17        2.59               20.0        120        0.68   \n177    14.13        4.10               24.5         96        0.76   \n\n     proanthocyanins   hue  \n0               2.29  1.04  \n1               1.28  1.05  \n2               2.81  1.03  \n3               2.18  0.86  \n4               1.82  1.04  \n..               ...   ...  \n173             1.06  0.64  \n174             1.41  0.70  \n175             1.35  0.59  \n176             1.46  0.60  \n177             1.35  0.61  \n\n[178 rows x 7 columns]",
      "text/html": "<div>\n<style scoped>\n    .dataframe tbody tr th:only-of-type {\n        vertical-align: middle;\n    }\n\n    .dataframe tbody tr th {\n        vertical-align: top;\n    }\n\n    .dataframe thead th {\n        text-align: right;\n    }\n</style>\n<table border=\"1\" class=\"dataframe\">\n  <thead>\n    <tr style=\"text-align: right;\">\n      <th></th>\n      <th>alcohol</th>\n      <th>malic_acid</th>\n      <th>alcalinity_of_ash</th>\n      <th>magnesium</th>\n      <th>flavanoids</th>\n      <th>proanthocyanins</th>\n      <th>hue</th>\n    </tr>\n  </thead>\n  <tbody>\n    <tr>\n      <th>0</th>\n      <td>14.23</td>\n      <td>1.71</td>\n      <td>15.6</td>\n      <td>127</td>\n      <td>3.06</td>\n      <td>2.29</td>\n      <td>1.04</td>\n    </tr>\n    <tr>\n      <th>1</th>\n      <td>13.20</td>\n      <td>1.78</td>\n      <td>11.2</td>\n      <td>100</td>\n      <td>2.76</td>\n      <td>1.28</td>\n      <td>1.05</td>\n    </tr>\n    <tr>\n      <th>2</th>\n      <td>13.16</td>\n      <td>2.36</td>\n      <td>18.6</td>\n      <td>101</td>\n      <td>3.24</td>\n      <td>2.81</td>\n      <td>1.03</td>\n    </tr>\n    <tr>\n      <th>3</th>\n      <td>14.37</td>\n      <td>1.95</td>\n      <td>16.8</td>\n      <td>113</td>\n      <td>3.49</td>\n      <td>2.18</td>\n      <td>0.86</td>\n    </tr>\n    <tr>\n      <th>4</th>\n      <td>13.24</td>\n      <td>2.59</td>\n      <td>21.0</td>\n      <td>118</td>\n      <td>2.69</td>\n      <td>1.82</td>\n      <td>1.04</td>\n    </tr>\n    <tr>\n      <th>...</th>\n      <td>...</td>\n      <td>...</td>\n      <td>...</td>\n      <td>...</td>\n      <td>...</td>\n      <td>...</td>\n      <td>...</td>\n    </tr>\n    <tr>\n      <th>173</th>\n      <td>13.71</td>\n      <td>5.65</td>\n      <td>20.5</td>\n      <td>95</td>\n      <td>0.61</td>\n      <td>1.06</td>\n      <td>0.64</td>\n    </tr>\n    <tr>\n      <th>174</th>\n      <td>13.40</td>\n      <td>3.91</td>\n      <td>23.0</td>\n      <td>102</td>\n      <td>0.75</td>\n      <td>1.41</td>\n      <td>0.70</td>\n    </tr>\n    <tr>\n      <th>175</th>\n      <td>13.27</td>\n      <td>4.28</td>\n      <td>20.0</td>\n      <td>120</td>\n      <td>0.69</td>\n      <td>1.35</td>\n      <td>0.59</td>\n    </tr>\n    <tr>\n      <th>176</th>\n      <td>13.17</td>\n      <td>2.59</td>\n      <td>20.0</td>\n      <td>120</td>\n      <td>0.68</td>\n      <td>1.46</td>\n      <td>0.60</td>\n    </tr>\n    <tr>\n      <th>177</th>\n      <td>14.13</td>\n      <td>4.10</td>\n      <td>24.5</td>\n      <td>96</td>\n      <td>0.76</td>\n      <td>1.35</td>\n      <td>0.61</td>\n    </tr>\n  </tbody>\n</table>\n<p>178 rows × 7 columns</p>\n</div>"
     },
     "execution_count": 49,
     "metadata": {},
     "output_type": "execute_result"
    }
   ],
   "source": [
    "wine.columns = ['alcohol', 'malic_acid', 'alcalinity_of_ash', 'magnesium', 'flavanoids', 'proanthocyanins', 'hue']\n",
    "wine"
   ]
  },
  {
   "cell_type": "markdown",
   "metadata": {
    "pycharm": {
     "name": "#%% md\n"
    }
   },
   "source": [
    "### Step 6. Set the values of the first 3 rows from alcohol as NaN"
   ]
  },
  {
   "cell_type": "code",
   "execution_count": 50,
   "metadata": {
    "collapsed": false,
    "pycharm": {
     "name": "#%%\n"
    }
   },
   "outputs": [
    {
     "data": {
      "text/plain": "     alcohol  malic_acid  alcalinity_of_ash  magnesium  flavanoids  \\\n0        NaN        1.71               15.6        127        3.06   \n1        NaN        1.78               11.2        100        2.76   \n2        NaN        2.36               18.6        101        3.24   \n3      14.37        1.95               16.8        113        3.49   \n4      13.24        2.59               21.0        118        2.69   \n..       ...         ...                ...        ...         ...   \n173    13.71        5.65               20.5         95        0.61   \n174    13.40        3.91               23.0        102        0.75   \n175    13.27        4.28               20.0        120        0.69   \n176    13.17        2.59               20.0        120        0.68   \n177    14.13        4.10               24.5         96        0.76   \n\n     proanthocyanins   hue  \n0               2.29  1.04  \n1               1.28  1.05  \n2               2.81  1.03  \n3               2.18  0.86  \n4               1.82  1.04  \n..               ...   ...  \n173             1.06  0.64  \n174             1.41  0.70  \n175             1.35  0.59  \n176             1.46  0.60  \n177             1.35  0.61  \n\n[178 rows x 7 columns]",
      "text/html": "<div>\n<style scoped>\n    .dataframe tbody tr th:only-of-type {\n        vertical-align: middle;\n    }\n\n    .dataframe tbody tr th {\n        vertical-align: top;\n    }\n\n    .dataframe thead th {\n        text-align: right;\n    }\n</style>\n<table border=\"1\" class=\"dataframe\">\n  <thead>\n    <tr style=\"text-align: right;\">\n      <th></th>\n      <th>alcohol</th>\n      <th>malic_acid</th>\n      <th>alcalinity_of_ash</th>\n      <th>magnesium</th>\n      <th>flavanoids</th>\n      <th>proanthocyanins</th>\n      <th>hue</th>\n    </tr>\n  </thead>\n  <tbody>\n    <tr>\n      <th>0</th>\n      <td>NaN</td>\n      <td>1.71</td>\n      <td>15.6</td>\n      <td>127</td>\n      <td>3.06</td>\n      <td>2.29</td>\n      <td>1.04</td>\n    </tr>\n    <tr>\n      <th>1</th>\n      <td>NaN</td>\n      <td>1.78</td>\n      <td>11.2</td>\n      <td>100</td>\n      <td>2.76</td>\n      <td>1.28</td>\n      <td>1.05</td>\n    </tr>\n    <tr>\n      <th>2</th>\n      <td>NaN</td>\n      <td>2.36</td>\n      <td>18.6</td>\n      <td>101</td>\n      <td>3.24</td>\n      <td>2.81</td>\n      <td>1.03</td>\n    </tr>\n    <tr>\n      <th>3</th>\n      <td>14.37</td>\n      <td>1.95</td>\n      <td>16.8</td>\n      <td>113</td>\n      <td>3.49</td>\n      <td>2.18</td>\n      <td>0.86</td>\n    </tr>\n    <tr>\n      <th>4</th>\n      <td>13.24</td>\n      <td>2.59</td>\n      <td>21.0</td>\n      <td>118</td>\n      <td>2.69</td>\n      <td>1.82</td>\n      <td>1.04</td>\n    </tr>\n    <tr>\n      <th>...</th>\n      <td>...</td>\n      <td>...</td>\n      <td>...</td>\n      <td>...</td>\n      <td>...</td>\n      <td>...</td>\n      <td>...</td>\n    </tr>\n    <tr>\n      <th>173</th>\n      <td>13.71</td>\n      <td>5.65</td>\n      <td>20.5</td>\n      <td>95</td>\n      <td>0.61</td>\n      <td>1.06</td>\n      <td>0.64</td>\n    </tr>\n    <tr>\n      <th>174</th>\n      <td>13.40</td>\n      <td>3.91</td>\n      <td>23.0</td>\n      <td>102</td>\n      <td>0.75</td>\n      <td>1.41</td>\n      <td>0.70</td>\n    </tr>\n    <tr>\n      <th>175</th>\n      <td>13.27</td>\n      <td>4.28</td>\n      <td>20.0</td>\n      <td>120</td>\n      <td>0.69</td>\n      <td>1.35</td>\n      <td>0.59</td>\n    </tr>\n    <tr>\n      <th>176</th>\n      <td>13.17</td>\n      <td>2.59</td>\n      <td>20.0</td>\n      <td>120</td>\n      <td>0.68</td>\n      <td>1.46</td>\n      <td>0.60</td>\n    </tr>\n    <tr>\n      <th>177</th>\n      <td>14.13</td>\n      <td>4.10</td>\n      <td>24.5</td>\n      <td>96</td>\n      <td>0.76</td>\n      <td>1.35</td>\n      <td>0.61</td>\n    </tr>\n  </tbody>\n</table>\n<p>178 rows × 7 columns</p>\n</div>"
     },
     "execution_count": 50,
     "metadata": {},
     "output_type": "execute_result"
    }
   ],
   "source": [
    "wine.loc[0:2, 'alcohol'] = np.nan\n",
    "wine"
   ]
  },
  {
   "cell_type": "markdown",
   "metadata": {
    "pycharm": {
     "name": "#%% md\n"
    }
   },
   "source": [
    "### Step 7. Now set the value of the rows 3 and 4 of magnesium as NaN"
   ]
  },
  {
   "cell_type": "code",
   "execution_count": 51,
   "metadata": {
    "collapsed": false,
    "pycharm": {
     "name": "#%%\n"
    }
   },
   "outputs": [
    {
     "data": {
      "text/plain": "     alcohol  malic_acid  alcalinity_of_ash  magnesium  flavanoids  \\\n0        NaN        1.71               15.6      127.0        3.06   \n1        NaN        1.78               11.2      100.0        2.76   \n2        NaN        2.36               18.6      101.0        3.24   \n3      14.37        1.95               16.8        NaN        3.49   \n4      13.24        2.59               21.0        NaN        2.69   \n..       ...         ...                ...        ...         ...   \n173    13.71        5.65               20.5       95.0        0.61   \n174    13.40        3.91               23.0      102.0        0.75   \n175    13.27        4.28               20.0      120.0        0.69   \n176    13.17        2.59               20.0      120.0        0.68   \n177    14.13        4.10               24.5       96.0        0.76   \n\n     proanthocyanins   hue  \n0               2.29  1.04  \n1               1.28  1.05  \n2               2.81  1.03  \n3               2.18  0.86  \n4               1.82  1.04  \n..               ...   ...  \n173             1.06  0.64  \n174             1.41  0.70  \n175             1.35  0.59  \n176             1.46  0.60  \n177             1.35  0.61  \n\n[178 rows x 7 columns]",
      "text/html": "<div>\n<style scoped>\n    .dataframe tbody tr th:only-of-type {\n        vertical-align: middle;\n    }\n\n    .dataframe tbody tr th {\n        vertical-align: top;\n    }\n\n    .dataframe thead th {\n        text-align: right;\n    }\n</style>\n<table border=\"1\" class=\"dataframe\">\n  <thead>\n    <tr style=\"text-align: right;\">\n      <th></th>\n      <th>alcohol</th>\n      <th>malic_acid</th>\n      <th>alcalinity_of_ash</th>\n      <th>magnesium</th>\n      <th>flavanoids</th>\n      <th>proanthocyanins</th>\n      <th>hue</th>\n    </tr>\n  </thead>\n  <tbody>\n    <tr>\n      <th>0</th>\n      <td>NaN</td>\n      <td>1.71</td>\n      <td>15.6</td>\n      <td>127.0</td>\n      <td>3.06</td>\n      <td>2.29</td>\n      <td>1.04</td>\n    </tr>\n    <tr>\n      <th>1</th>\n      <td>NaN</td>\n      <td>1.78</td>\n      <td>11.2</td>\n      <td>100.0</td>\n      <td>2.76</td>\n      <td>1.28</td>\n      <td>1.05</td>\n    </tr>\n    <tr>\n      <th>2</th>\n      <td>NaN</td>\n      <td>2.36</td>\n      <td>18.6</td>\n      <td>101.0</td>\n      <td>3.24</td>\n      <td>2.81</td>\n      <td>1.03</td>\n    </tr>\n    <tr>\n      <th>3</th>\n      <td>14.37</td>\n      <td>1.95</td>\n      <td>16.8</td>\n      <td>NaN</td>\n      <td>3.49</td>\n      <td>2.18</td>\n      <td>0.86</td>\n    </tr>\n    <tr>\n      <th>4</th>\n      <td>13.24</td>\n      <td>2.59</td>\n      <td>21.0</td>\n      <td>NaN</td>\n      <td>2.69</td>\n      <td>1.82</td>\n      <td>1.04</td>\n    </tr>\n    <tr>\n      <th>...</th>\n      <td>...</td>\n      <td>...</td>\n      <td>...</td>\n      <td>...</td>\n      <td>...</td>\n      <td>...</td>\n      <td>...</td>\n    </tr>\n    <tr>\n      <th>173</th>\n      <td>13.71</td>\n      <td>5.65</td>\n      <td>20.5</td>\n      <td>95.0</td>\n      <td>0.61</td>\n      <td>1.06</td>\n      <td>0.64</td>\n    </tr>\n    <tr>\n      <th>174</th>\n      <td>13.40</td>\n      <td>3.91</td>\n      <td>23.0</td>\n      <td>102.0</td>\n      <td>0.75</td>\n      <td>1.41</td>\n      <td>0.70</td>\n    </tr>\n    <tr>\n      <th>175</th>\n      <td>13.27</td>\n      <td>4.28</td>\n      <td>20.0</td>\n      <td>120.0</td>\n      <td>0.69</td>\n      <td>1.35</td>\n      <td>0.59</td>\n    </tr>\n    <tr>\n      <th>176</th>\n      <td>13.17</td>\n      <td>2.59</td>\n      <td>20.0</td>\n      <td>120.0</td>\n      <td>0.68</td>\n      <td>1.46</td>\n      <td>0.60</td>\n    </tr>\n    <tr>\n      <th>177</th>\n      <td>14.13</td>\n      <td>4.10</td>\n      <td>24.5</td>\n      <td>96.0</td>\n      <td>0.76</td>\n      <td>1.35</td>\n      <td>0.61</td>\n    </tr>\n  </tbody>\n</table>\n<p>178 rows × 7 columns</p>\n</div>"
     },
     "execution_count": 51,
     "metadata": {},
     "output_type": "execute_result"
    }
   ],
   "source": [
    "wine.loc[3:4, 'magnesium'] = np.nan\n",
    "wine"
   ]
  },
  {
   "cell_type": "markdown",
   "metadata": {
    "pycharm": {
     "name": "#%% md\n"
    }
   },
   "source": [
    "### Step 8. Fill the value of NaN with the number 10 in alcohol and 100 in magnesium"
   ]
  },
  {
   "cell_type": "code",
   "execution_count": 52,
   "metadata": {
    "collapsed": false,
    "pycharm": {
     "name": "#%%\n"
    }
   },
   "outputs": [
    {
     "data": {
      "text/plain": "     alcohol  malic_acid  alcalinity_of_ash  magnesium  flavanoids  \\\n0      10.00        1.71               15.6      127.0        3.06   \n1      10.00        1.78               11.2      100.0        2.76   \n2      10.00        2.36               18.6      101.0        3.24   \n3      14.37        1.95               16.8      100.0        3.49   \n4      13.24        2.59               21.0      100.0        2.69   \n..       ...         ...                ...        ...         ...   \n173    13.71        5.65               20.5       95.0        0.61   \n174    13.40        3.91               23.0      102.0        0.75   \n175    13.27        4.28               20.0      120.0        0.69   \n176    13.17        2.59               20.0      120.0        0.68   \n177    14.13        4.10               24.5       96.0        0.76   \n\n     proanthocyanins   hue  \n0               2.29  1.04  \n1               1.28  1.05  \n2               2.81  1.03  \n3               2.18  0.86  \n4               1.82  1.04  \n..               ...   ...  \n173             1.06  0.64  \n174             1.41  0.70  \n175             1.35  0.59  \n176             1.46  0.60  \n177             1.35  0.61  \n\n[178 rows x 7 columns]",
      "text/html": "<div>\n<style scoped>\n    .dataframe tbody tr th:only-of-type {\n        vertical-align: middle;\n    }\n\n    .dataframe tbody tr th {\n        vertical-align: top;\n    }\n\n    .dataframe thead th {\n        text-align: right;\n    }\n</style>\n<table border=\"1\" class=\"dataframe\">\n  <thead>\n    <tr style=\"text-align: right;\">\n      <th></th>\n      <th>alcohol</th>\n      <th>malic_acid</th>\n      <th>alcalinity_of_ash</th>\n      <th>magnesium</th>\n      <th>flavanoids</th>\n      <th>proanthocyanins</th>\n      <th>hue</th>\n    </tr>\n  </thead>\n  <tbody>\n    <tr>\n      <th>0</th>\n      <td>10.00</td>\n      <td>1.71</td>\n      <td>15.6</td>\n      <td>127.0</td>\n      <td>3.06</td>\n      <td>2.29</td>\n      <td>1.04</td>\n    </tr>\n    <tr>\n      <th>1</th>\n      <td>10.00</td>\n      <td>1.78</td>\n      <td>11.2</td>\n      <td>100.0</td>\n      <td>2.76</td>\n      <td>1.28</td>\n      <td>1.05</td>\n    </tr>\n    <tr>\n      <th>2</th>\n      <td>10.00</td>\n      <td>2.36</td>\n      <td>18.6</td>\n      <td>101.0</td>\n      <td>3.24</td>\n      <td>2.81</td>\n      <td>1.03</td>\n    </tr>\n    <tr>\n      <th>3</th>\n      <td>14.37</td>\n      <td>1.95</td>\n      <td>16.8</td>\n      <td>100.0</td>\n      <td>3.49</td>\n      <td>2.18</td>\n      <td>0.86</td>\n    </tr>\n    <tr>\n      <th>4</th>\n      <td>13.24</td>\n      <td>2.59</td>\n      <td>21.0</td>\n      <td>100.0</td>\n      <td>2.69</td>\n      <td>1.82</td>\n      <td>1.04</td>\n    </tr>\n    <tr>\n      <th>...</th>\n      <td>...</td>\n      <td>...</td>\n      <td>...</td>\n      <td>...</td>\n      <td>...</td>\n      <td>...</td>\n      <td>...</td>\n    </tr>\n    <tr>\n      <th>173</th>\n      <td>13.71</td>\n      <td>5.65</td>\n      <td>20.5</td>\n      <td>95.0</td>\n      <td>0.61</td>\n      <td>1.06</td>\n      <td>0.64</td>\n    </tr>\n    <tr>\n      <th>174</th>\n      <td>13.40</td>\n      <td>3.91</td>\n      <td>23.0</td>\n      <td>102.0</td>\n      <td>0.75</td>\n      <td>1.41</td>\n      <td>0.70</td>\n    </tr>\n    <tr>\n      <th>175</th>\n      <td>13.27</td>\n      <td>4.28</td>\n      <td>20.0</td>\n      <td>120.0</td>\n      <td>0.69</td>\n      <td>1.35</td>\n      <td>0.59</td>\n    </tr>\n    <tr>\n      <th>176</th>\n      <td>13.17</td>\n      <td>2.59</td>\n      <td>20.0</td>\n      <td>120.0</td>\n      <td>0.68</td>\n      <td>1.46</td>\n      <td>0.60</td>\n    </tr>\n    <tr>\n      <th>177</th>\n      <td>14.13</td>\n      <td>4.10</td>\n      <td>24.5</td>\n      <td>96.0</td>\n      <td>0.76</td>\n      <td>1.35</td>\n      <td>0.61</td>\n    </tr>\n  </tbody>\n</table>\n<p>178 rows × 7 columns</p>\n</div>"
     },
     "execution_count": 52,
     "metadata": {},
     "output_type": "execute_result"
    }
   ],
   "source": [
    "wine.alcohol.fillna(10, inplace=True)\n",
    "wine.magnesium.fillna(100, inplace=True)\n",
    "wine"
   ]
  },
  {
   "cell_type": "markdown",
   "metadata": {
    "pycharm": {
     "name": "#%% md\n"
    }
   },
   "source": [
    "### Step 9. Count the number of missing values"
   ]
  },
  {
   "cell_type": "code",
   "execution_count": 53,
   "metadata": {
    "collapsed": false,
    "pycharm": {
     "name": "#%%\n"
    }
   },
   "outputs": [
    {
     "data": {
      "text/plain": "alcohol              0\nmalic_acid           0\nalcalinity_of_ash    0\nmagnesium            0\nflavanoids           0\nproanthocyanins      0\nhue                  0\ndtype: int64"
     },
     "execution_count": 53,
     "metadata": {},
     "output_type": "execute_result"
    }
   ],
   "source": [
    "wine.isnull().sum()"
   ]
  },
  {
   "cell_type": "markdown",
   "metadata": {
    "pycharm": {
     "name": "#%% md\n"
    }
   },
   "source": [
    "### Step 10.  Create an array of 10 random numbers up until 10"
   ]
  },
  {
   "cell_type": "code",
   "execution_count": 54,
   "metadata": {
    "collapsed": false,
    "pycharm": {
     "name": "#%%\n"
    }
   },
   "outputs": [
    {
     "data": {
      "text/plain": "array([9, 6, 6, 8, 6, 7, 7, 5, 5, 3])"
     },
     "execution_count": 54,
     "metadata": {},
     "output_type": "execute_result"
    }
   ],
   "source": [
    "random = np.random.randint(10, size = 10)\n",
    "random"
   ]
  },
  {
   "cell_type": "markdown",
   "metadata": {
    "pycharm": {
     "name": "#%% md\n"
    }
   },
   "source": [
    "### Step 11.  Use random numbers you generated as an index and assign NaN value to each of cell."
   ]
  },
  {
   "cell_type": "code",
   "execution_count": 55,
   "outputs": [
    {
     "data": {
      "text/plain": "     alcohol  malic_acid  alcalinity_of_ash  magnesium  flavanoids  \\\n0      10.00        1.71               15.6      127.0        3.06   \n1      10.00        1.78               11.2      100.0        2.76   \n2      10.00        2.36               18.6      101.0        3.24   \n3        NaN         NaN                NaN        NaN         NaN   \n4      13.24        2.59               21.0      100.0        2.69   \n..       ...         ...                ...        ...         ...   \n173    13.71        5.65               20.5       95.0        0.61   \n174    13.40        3.91               23.0      102.0        0.75   \n175    13.27        4.28               20.0      120.0        0.69   \n176    13.17        2.59               20.0      120.0        0.68   \n177    14.13        4.10               24.5       96.0        0.76   \n\n     proanthocyanins   hue  \n0               2.29  1.04  \n1               1.28  1.05  \n2               2.81  1.03  \n3                NaN   NaN  \n4               1.82  1.04  \n..               ...   ...  \n173             1.06  0.64  \n174             1.41  0.70  \n175             1.35  0.59  \n176             1.46  0.60  \n177             1.35  0.61  \n\n[178 rows x 7 columns]",
      "text/html": "<div>\n<style scoped>\n    .dataframe tbody tr th:only-of-type {\n        vertical-align: middle;\n    }\n\n    .dataframe tbody tr th {\n        vertical-align: top;\n    }\n\n    .dataframe thead th {\n        text-align: right;\n    }\n</style>\n<table border=\"1\" class=\"dataframe\">\n  <thead>\n    <tr style=\"text-align: right;\">\n      <th></th>\n      <th>alcohol</th>\n      <th>malic_acid</th>\n      <th>alcalinity_of_ash</th>\n      <th>magnesium</th>\n      <th>flavanoids</th>\n      <th>proanthocyanins</th>\n      <th>hue</th>\n    </tr>\n  </thead>\n  <tbody>\n    <tr>\n      <th>0</th>\n      <td>10.00</td>\n      <td>1.71</td>\n      <td>15.6</td>\n      <td>127.0</td>\n      <td>3.06</td>\n      <td>2.29</td>\n      <td>1.04</td>\n    </tr>\n    <tr>\n      <th>1</th>\n      <td>10.00</td>\n      <td>1.78</td>\n      <td>11.2</td>\n      <td>100.0</td>\n      <td>2.76</td>\n      <td>1.28</td>\n      <td>1.05</td>\n    </tr>\n    <tr>\n      <th>2</th>\n      <td>10.00</td>\n      <td>2.36</td>\n      <td>18.6</td>\n      <td>101.0</td>\n      <td>3.24</td>\n      <td>2.81</td>\n      <td>1.03</td>\n    </tr>\n    <tr>\n      <th>3</th>\n      <td>NaN</td>\n      <td>NaN</td>\n      <td>NaN</td>\n      <td>NaN</td>\n      <td>NaN</td>\n      <td>NaN</td>\n      <td>NaN</td>\n    </tr>\n    <tr>\n      <th>4</th>\n      <td>13.24</td>\n      <td>2.59</td>\n      <td>21.0</td>\n      <td>100.0</td>\n      <td>2.69</td>\n      <td>1.82</td>\n      <td>1.04</td>\n    </tr>\n    <tr>\n      <th>...</th>\n      <td>...</td>\n      <td>...</td>\n      <td>...</td>\n      <td>...</td>\n      <td>...</td>\n      <td>...</td>\n      <td>...</td>\n    </tr>\n    <tr>\n      <th>173</th>\n      <td>13.71</td>\n      <td>5.65</td>\n      <td>20.5</td>\n      <td>95.0</td>\n      <td>0.61</td>\n      <td>1.06</td>\n      <td>0.64</td>\n    </tr>\n    <tr>\n      <th>174</th>\n      <td>13.40</td>\n      <td>3.91</td>\n      <td>23.0</td>\n      <td>102.0</td>\n      <td>0.75</td>\n      <td>1.41</td>\n      <td>0.70</td>\n    </tr>\n    <tr>\n      <th>175</th>\n      <td>13.27</td>\n      <td>4.28</td>\n      <td>20.0</td>\n      <td>120.0</td>\n      <td>0.69</td>\n      <td>1.35</td>\n      <td>0.59</td>\n    </tr>\n    <tr>\n      <th>176</th>\n      <td>13.17</td>\n      <td>2.59</td>\n      <td>20.0</td>\n      <td>120.0</td>\n      <td>0.68</td>\n      <td>1.46</td>\n      <td>0.60</td>\n    </tr>\n    <tr>\n      <th>177</th>\n      <td>14.13</td>\n      <td>4.10</td>\n      <td>24.5</td>\n      <td>96.0</td>\n      <td>0.76</td>\n      <td>1.35</td>\n      <td>0.61</td>\n    </tr>\n  </tbody>\n</table>\n<p>178 rows × 7 columns</p>\n</div>"
     },
     "execution_count": 55,
     "metadata": {},
     "output_type": "execute_result"
    }
   ],
   "source": [
    "wine.iloc[random] = np.nan\n",
    "wine"
   ],
   "metadata": {
    "collapsed": false,
    "pycharm": {
     "name": "#%%\n"
    }
   }
  },
  {
   "cell_type": "markdown",
   "metadata": {
    "pycharm": {
     "name": "#%% md\n"
    }
   },
   "source": [
    "### Step 12.  How many missing values do we have?"
   ]
  },
  {
   "cell_type": "code",
   "execution_count": 56,
   "metadata": {
    "collapsed": false,
    "pycharm": {
     "name": "#%%\n"
    }
   },
   "outputs": [
    {
     "data": {
      "text/plain": "alcohol              6\nmalic_acid           6\nalcalinity_of_ash    6\nmagnesium            6\nflavanoids           6\nproanthocyanins      6\nhue                  6\ndtype: int64"
     },
     "execution_count": 56,
     "metadata": {},
     "output_type": "execute_result"
    }
   ],
   "source": [
    "wine.isna().sum()"
   ]
  },
  {
   "cell_type": "markdown",
   "metadata": {
    "pycharm": {
     "name": "#%% md\n"
    }
   },
   "source": [
    "### Step 13. Delete the rows that contain missing values"
   ]
  },
  {
   "cell_type": "code",
   "execution_count": 57,
   "metadata": {
    "collapsed": false,
    "pycharm": {
     "name": "#%%\n"
    }
   },
   "outputs": [
    {
     "data": {
      "text/plain": "     alcohol  malic_acid  alcalinity_of_ash  magnesium  flavanoids  \\\n0      10.00        1.71               15.6      127.0        3.06   \n1      10.00        1.78               11.2      100.0        2.76   \n2      10.00        2.36               18.6      101.0        3.24   \n4      13.24        2.59               21.0      100.0        2.69   \n10     14.10        2.16               18.0      105.0        3.32   \n..       ...         ...                ...        ...         ...   \n173    13.71        5.65               20.5       95.0        0.61   \n174    13.40        3.91               23.0      102.0        0.75   \n175    13.27        4.28               20.0      120.0        0.69   \n176    13.17        2.59               20.0      120.0        0.68   \n177    14.13        4.10               24.5       96.0        0.76   \n\n     proanthocyanins   hue  \n0               2.29  1.04  \n1               1.28  1.05  \n2               2.81  1.03  \n4               1.82  1.04  \n10              2.38  1.25  \n..               ...   ...  \n173             1.06  0.64  \n174             1.41  0.70  \n175             1.35  0.59  \n176             1.46  0.60  \n177             1.35  0.61  \n\n[172 rows x 7 columns]",
      "text/html": "<div>\n<style scoped>\n    .dataframe tbody tr th:only-of-type {\n        vertical-align: middle;\n    }\n\n    .dataframe tbody tr th {\n        vertical-align: top;\n    }\n\n    .dataframe thead th {\n        text-align: right;\n    }\n</style>\n<table border=\"1\" class=\"dataframe\">\n  <thead>\n    <tr style=\"text-align: right;\">\n      <th></th>\n      <th>alcohol</th>\n      <th>malic_acid</th>\n      <th>alcalinity_of_ash</th>\n      <th>magnesium</th>\n      <th>flavanoids</th>\n      <th>proanthocyanins</th>\n      <th>hue</th>\n    </tr>\n  </thead>\n  <tbody>\n    <tr>\n      <th>0</th>\n      <td>10.00</td>\n      <td>1.71</td>\n      <td>15.6</td>\n      <td>127.0</td>\n      <td>3.06</td>\n      <td>2.29</td>\n      <td>1.04</td>\n    </tr>\n    <tr>\n      <th>1</th>\n      <td>10.00</td>\n      <td>1.78</td>\n      <td>11.2</td>\n      <td>100.0</td>\n      <td>2.76</td>\n      <td>1.28</td>\n      <td>1.05</td>\n    </tr>\n    <tr>\n      <th>2</th>\n      <td>10.00</td>\n      <td>2.36</td>\n      <td>18.6</td>\n      <td>101.0</td>\n      <td>3.24</td>\n      <td>2.81</td>\n      <td>1.03</td>\n    </tr>\n    <tr>\n      <th>4</th>\n      <td>13.24</td>\n      <td>2.59</td>\n      <td>21.0</td>\n      <td>100.0</td>\n      <td>2.69</td>\n      <td>1.82</td>\n      <td>1.04</td>\n    </tr>\n    <tr>\n      <th>10</th>\n      <td>14.10</td>\n      <td>2.16</td>\n      <td>18.0</td>\n      <td>105.0</td>\n      <td>3.32</td>\n      <td>2.38</td>\n      <td>1.25</td>\n    </tr>\n    <tr>\n      <th>...</th>\n      <td>...</td>\n      <td>...</td>\n      <td>...</td>\n      <td>...</td>\n      <td>...</td>\n      <td>...</td>\n      <td>...</td>\n    </tr>\n    <tr>\n      <th>173</th>\n      <td>13.71</td>\n      <td>5.65</td>\n      <td>20.5</td>\n      <td>95.0</td>\n      <td>0.61</td>\n      <td>1.06</td>\n      <td>0.64</td>\n    </tr>\n    <tr>\n      <th>174</th>\n      <td>13.40</td>\n      <td>3.91</td>\n      <td>23.0</td>\n      <td>102.0</td>\n      <td>0.75</td>\n      <td>1.41</td>\n      <td>0.70</td>\n    </tr>\n    <tr>\n      <th>175</th>\n      <td>13.27</td>\n      <td>4.28</td>\n      <td>20.0</td>\n      <td>120.0</td>\n      <td>0.69</td>\n      <td>1.35</td>\n      <td>0.59</td>\n    </tr>\n    <tr>\n      <th>176</th>\n      <td>13.17</td>\n      <td>2.59</td>\n      <td>20.0</td>\n      <td>120.0</td>\n      <td>0.68</td>\n      <td>1.46</td>\n      <td>0.60</td>\n    </tr>\n    <tr>\n      <th>177</th>\n      <td>14.13</td>\n      <td>4.10</td>\n      <td>24.5</td>\n      <td>96.0</td>\n      <td>0.76</td>\n      <td>1.35</td>\n      <td>0.61</td>\n    </tr>\n  </tbody>\n</table>\n<p>172 rows × 7 columns</p>\n</div>"
     },
     "execution_count": 57,
     "metadata": {},
     "output_type": "execute_result"
    }
   ],
   "source": [
    "wine.dropna(inplace=True)\n",
    "wine"
   ]
  },
  {
   "cell_type": "markdown",
   "metadata": {
    "pycharm": {
     "name": "#%% md\n"
    }
   },
   "source": [
    "### Step 14. Print only the non-null values in alcohol"
   ]
  },
  {
   "cell_type": "code",
   "execution_count": 58,
   "metadata": {
    "collapsed": false,
    "pycharm": {
     "name": "#%%\n"
    }
   },
   "outputs": [
    {
     "data": {
      "text/plain": "0      10.00\n1      10.00\n2      10.00\n4      13.24\n10     14.10\n       ...  \n173    13.71\n174    13.40\n175    13.27\n176    13.17\n177    14.13\nName: alcohol, Length: 172, dtype: float64"
     },
     "execution_count": 58,
     "metadata": {},
     "output_type": "execute_result"
    }
   ],
   "source": [
    "wine.loc[~wine.alcohol.isnull(), 'alcohol']"
   ]
  },
  {
   "cell_type": "code",
   "execution_count": 59,
   "metadata": {
    "collapsed": true,
    "pycharm": {
     "name": "#%%\n"
    }
   },
   "outputs": [
    {
     "data": {
      "text/plain": "0      10.00\n1      10.00\n2      10.00\n4      13.24\n10     14.10\n       ...  \n173    13.71\n174    13.40\n175    13.27\n176    13.17\n177    14.13\nName: alcohol, Length: 172, dtype: float64"
     },
     "execution_count": 59,
     "metadata": {},
     "output_type": "execute_result"
    }
   ],
   "source": [
    "wine.alcohol[wine.alcohol.notnull()]"
   ]
  },
  {
   "cell_type": "markdown",
   "metadata": {
    "pycharm": {
     "name": "#%% md\n"
    }
   },
   "source": [
    "### Step 15.  Reset the index, so it starts with 0 again"
   ]
  },
  {
   "cell_type": "code",
   "execution_count": 60,
   "metadata": {
    "collapsed": false,
    "pycharm": {
     "name": "#%%\n"
    }
   },
   "outputs": [
    {
     "data": {
      "text/plain": "     alcohol  malic_acid  alcalinity_of_ash  magnesium  flavanoids  \\\n0      10.00        1.71               15.6      127.0        3.06   \n1      10.00        1.78               11.2      100.0        2.76   \n2      10.00        2.36               18.6      101.0        3.24   \n3      13.24        2.59               21.0      100.0        2.69   \n4      14.10        2.16               18.0      105.0        3.32   \n..       ...         ...                ...        ...         ...   \n167    13.71        5.65               20.5       95.0        0.61   \n168    13.40        3.91               23.0      102.0        0.75   \n169    13.27        4.28               20.0      120.0        0.69   \n170    13.17        2.59               20.0      120.0        0.68   \n171    14.13        4.10               24.5       96.0        0.76   \n\n     proanthocyanins   hue  \n0               2.29  1.04  \n1               1.28  1.05  \n2               2.81  1.03  \n3               1.82  1.04  \n4               2.38  1.25  \n..               ...   ...  \n167             1.06  0.64  \n168             1.41  0.70  \n169             1.35  0.59  \n170             1.46  0.60  \n171             1.35  0.61  \n\n[172 rows x 7 columns]",
      "text/html": "<div>\n<style scoped>\n    .dataframe tbody tr th:only-of-type {\n        vertical-align: middle;\n    }\n\n    .dataframe tbody tr th {\n        vertical-align: top;\n    }\n\n    .dataframe thead th {\n        text-align: right;\n    }\n</style>\n<table border=\"1\" class=\"dataframe\">\n  <thead>\n    <tr style=\"text-align: right;\">\n      <th></th>\n      <th>alcohol</th>\n      <th>malic_acid</th>\n      <th>alcalinity_of_ash</th>\n      <th>magnesium</th>\n      <th>flavanoids</th>\n      <th>proanthocyanins</th>\n      <th>hue</th>\n    </tr>\n  </thead>\n  <tbody>\n    <tr>\n      <th>0</th>\n      <td>10.00</td>\n      <td>1.71</td>\n      <td>15.6</td>\n      <td>127.0</td>\n      <td>3.06</td>\n      <td>2.29</td>\n      <td>1.04</td>\n    </tr>\n    <tr>\n      <th>1</th>\n      <td>10.00</td>\n      <td>1.78</td>\n      <td>11.2</td>\n      <td>100.0</td>\n      <td>2.76</td>\n      <td>1.28</td>\n      <td>1.05</td>\n    </tr>\n    <tr>\n      <th>2</th>\n      <td>10.00</td>\n      <td>2.36</td>\n      <td>18.6</td>\n      <td>101.0</td>\n      <td>3.24</td>\n      <td>2.81</td>\n      <td>1.03</td>\n    </tr>\n    <tr>\n      <th>3</th>\n      <td>13.24</td>\n      <td>2.59</td>\n      <td>21.0</td>\n      <td>100.0</td>\n      <td>2.69</td>\n      <td>1.82</td>\n      <td>1.04</td>\n    </tr>\n    <tr>\n      <th>4</th>\n      <td>14.10</td>\n      <td>2.16</td>\n      <td>18.0</td>\n      <td>105.0</td>\n      <td>3.32</td>\n      <td>2.38</td>\n      <td>1.25</td>\n    </tr>\n    <tr>\n      <th>...</th>\n      <td>...</td>\n      <td>...</td>\n      <td>...</td>\n      <td>...</td>\n      <td>...</td>\n      <td>...</td>\n      <td>...</td>\n    </tr>\n    <tr>\n      <th>167</th>\n      <td>13.71</td>\n      <td>5.65</td>\n      <td>20.5</td>\n      <td>95.0</td>\n      <td>0.61</td>\n      <td>1.06</td>\n      <td>0.64</td>\n    </tr>\n    <tr>\n      <th>168</th>\n      <td>13.40</td>\n      <td>3.91</td>\n      <td>23.0</td>\n      <td>102.0</td>\n      <td>0.75</td>\n      <td>1.41</td>\n      <td>0.70</td>\n    </tr>\n    <tr>\n      <th>169</th>\n      <td>13.27</td>\n      <td>4.28</td>\n      <td>20.0</td>\n      <td>120.0</td>\n      <td>0.69</td>\n      <td>1.35</td>\n      <td>0.59</td>\n    </tr>\n    <tr>\n      <th>170</th>\n      <td>13.17</td>\n      <td>2.59</td>\n      <td>20.0</td>\n      <td>120.0</td>\n      <td>0.68</td>\n      <td>1.46</td>\n      <td>0.60</td>\n    </tr>\n    <tr>\n      <th>171</th>\n      <td>14.13</td>\n      <td>4.10</td>\n      <td>24.5</td>\n      <td>96.0</td>\n      <td>0.76</td>\n      <td>1.35</td>\n      <td>0.61</td>\n    </tr>\n  </tbody>\n</table>\n<p>172 rows × 7 columns</p>\n</div>"
     },
     "execution_count": 60,
     "metadata": {},
     "output_type": "execute_result"
    }
   ],
   "source": [
    "wine.reset_index(inplace=True, drop=True)\n",
    "wine"
   ]
  },
  {
   "cell_type": "markdown",
   "metadata": {
    "pycharm": {
     "name": "#%% md\n"
    }
   },
   "source": [
    "### BONUS: Create your own question and answer it."
   ]
  },
  {
   "cell_type": "code",
   "execution_count": null,
   "metadata": {
    "collapsed": true,
    "pycharm": {
     "name": "#%%\n",
     "is_executing": true
    }
   },
   "outputs": [],
   "source": []
  }
 ],
 "metadata": {
  "kernelspec": {
   "name": "python3",
   "language": "python",
   "display_name": "Python 3 (ipykernel)"
  },
  "language_info": {
   "codemirror_mode": {
    "name": "ipython",
    "version": 2
   },
   "file_extension": ".py",
   "mimetype": "text/x-python",
   "name": "python",
   "nbconvert_exporter": "python",
   "pygments_lexer": "ipython2",
   "version": "2.7.12"
  }
 },
 "nbformat": 4,
 "nbformat_minor": 0
}