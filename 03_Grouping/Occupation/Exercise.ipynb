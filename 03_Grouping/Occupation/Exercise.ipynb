{
 "cells": [
  {
   "cell_type": "markdown",
   "metadata": {
    "pycharm": {
     "name": "#%% md\n"
    }
   },
   "source": [
    "# Occupation"
   ]
  },
  {
   "cell_type": "markdown",
   "metadata": {
    "pycharm": {
     "name": "#%% md\n"
    }
   },
   "source": [
    "### Introduction:\n",
    "\n",
    "Special thanks to: https://github.com/justmarkham for sharing the dataset and materials.\n",
    "\n",
    "### Step 1. Import the necessary libraries"
   ]
  },
  {
   "cell_type": "code",
   "execution_count": 1,
   "metadata": {
    "collapsed": false,
    "pycharm": {
     "name": "#%%\n"
    }
   },
   "outputs": [],
   "source": [
    "import pandas as pd"
   ]
  },
  {
   "cell_type": "markdown",
   "metadata": {
    "pycharm": {
     "name": "#%% md\n"
    }
   },
   "source": [
    "### Step 2. Import the dataset from this [address](https://raw.githubusercontent.com/justmarkham/DAT8/master/data/u.user). "
   ]
  },
  {
   "cell_type": "markdown",
   "metadata": {
    "pycharm": {
     "name": "#%% md\n"
    }
   },
   "source": [
    "### Step 3. Assign it to a variable called users."
   ]
  },
  {
   "cell_type": "code",
   "execution_count": 4,
   "metadata": {
    "collapsed": false,
    "pycharm": {
     "name": "#%%\n"
    }
   },
   "outputs": [
    {
     "data": {
      "text/plain": "     user_id  age gender     occupation zip_code\n0          1   24      M     technician    85711\n1          2   53      F          other    94043\n2          3   23      M         writer    32067\n3          4   24      M     technician    43537\n4          5   33      F          other    15213\n..       ...  ...    ...            ...      ...\n938      939   26      F        student    33319\n939      940   32      M  administrator    02215\n940      941   20      M        student    97229\n941      942   48      F      librarian    78209\n942      943   22      M        student    77841\n\n[943 rows x 5 columns]",
      "text/html": "<div>\n<style scoped>\n    .dataframe tbody tr th:only-of-type {\n        vertical-align: middle;\n    }\n\n    .dataframe tbody tr th {\n        vertical-align: top;\n    }\n\n    .dataframe thead th {\n        text-align: right;\n    }\n</style>\n<table border=\"1\" class=\"dataframe\">\n  <thead>\n    <tr style=\"text-align: right;\">\n      <th></th>\n      <th>user_id</th>\n      <th>age</th>\n      <th>gender</th>\n      <th>occupation</th>\n      <th>zip_code</th>\n    </tr>\n  </thead>\n  <tbody>\n    <tr>\n      <th>0</th>\n      <td>1</td>\n      <td>24</td>\n      <td>M</td>\n      <td>technician</td>\n      <td>85711</td>\n    </tr>\n    <tr>\n      <th>1</th>\n      <td>2</td>\n      <td>53</td>\n      <td>F</td>\n      <td>other</td>\n      <td>94043</td>\n    </tr>\n    <tr>\n      <th>2</th>\n      <td>3</td>\n      <td>23</td>\n      <td>M</td>\n      <td>writer</td>\n      <td>32067</td>\n    </tr>\n    <tr>\n      <th>3</th>\n      <td>4</td>\n      <td>24</td>\n      <td>M</td>\n      <td>technician</td>\n      <td>43537</td>\n    </tr>\n    <tr>\n      <th>4</th>\n      <td>5</td>\n      <td>33</td>\n      <td>F</td>\n      <td>other</td>\n      <td>15213</td>\n    </tr>\n    <tr>\n      <th>...</th>\n      <td>...</td>\n      <td>...</td>\n      <td>...</td>\n      <td>...</td>\n      <td>...</td>\n    </tr>\n    <tr>\n      <th>938</th>\n      <td>939</td>\n      <td>26</td>\n      <td>F</td>\n      <td>student</td>\n      <td>33319</td>\n    </tr>\n    <tr>\n      <th>939</th>\n      <td>940</td>\n      <td>32</td>\n      <td>M</td>\n      <td>administrator</td>\n      <td>02215</td>\n    </tr>\n    <tr>\n      <th>940</th>\n      <td>941</td>\n      <td>20</td>\n      <td>M</td>\n      <td>student</td>\n      <td>97229</td>\n    </tr>\n    <tr>\n      <th>941</th>\n      <td>942</td>\n      <td>48</td>\n      <td>F</td>\n      <td>librarian</td>\n      <td>78209</td>\n    </tr>\n    <tr>\n      <th>942</th>\n      <td>943</td>\n      <td>22</td>\n      <td>M</td>\n      <td>student</td>\n      <td>77841</td>\n    </tr>\n  </tbody>\n</table>\n<p>943 rows × 5 columns</p>\n</div>"
     },
     "execution_count": 4,
     "metadata": {},
     "output_type": "execute_result"
    }
   ],
   "source": [
    "url = 'https://raw.githubusercontent.com/justmarkham/DAT8/master/data/u.user'\n",
    "users = pd.read_csv(url, sep='|')\n",
    "users"
   ]
  },
  {
   "cell_type": "markdown",
   "metadata": {
    "pycharm": {
     "name": "#%% md\n"
    }
   },
   "source": [
    "### Step 4. Discover what is the mean age per occupation"
   ]
  },
  {
   "cell_type": "code",
   "execution_count": 9,
   "metadata": {
    "collapsed": false,
    "pycharm": {
     "name": "#%%\n"
    }
   },
   "outputs": [
    {
     "data": {
      "text/plain": "occupation\nadministrator    39.0\nartist           31.0\ndoctor           44.0\neducator         42.0\nengineer         36.0\nentertainment    29.0\nexecutive        39.0\nhealthcare       42.0\nhomemaker        33.0\nlawyer           37.0\nlibrarian        40.0\nmarketing        38.0\nnone             27.0\nother            35.0\nprogrammer       33.0\nretired          63.0\nsalesman         36.0\nscientist        36.0\nstudent          22.0\ntechnician       33.0\nwriter           36.0\nName: age, dtype: float64"
     },
     "execution_count": 9,
     "metadata": {},
     "output_type": "execute_result"
    }
   ],
   "source": [
    "users.groupby('occupation').age.mean().round()"
   ]
  },
  {
   "cell_type": "markdown",
   "metadata": {
    "pycharm": {
     "name": "#%% md\n"
    }
   },
   "source": [
    "### Step 5. Discover the Male ratio per occupation and sort it from the most to the least"
   ]
  },
  {
   "cell_type": "code",
   "execution_count": 66,
   "metadata": {
    "collapsed": false,
    "pycharm": {
     "name": "#%%\n"
    }
   },
   "outputs": [
    {
     "data": {
      "text/plain": "occupation\ndoctor           100.000000\nengineer          97.014925\ntechnician        96.296296\nretired           92.857143\nprogrammer        90.909091\nexecutive         90.625000\nscientist         90.322581\nentertainment     88.888889\nlawyer            83.333333\nsalesman          75.000000\neducator          72.631579\nstudent           69.387755\nother             65.714286\nmarketing         61.538462\nwriter            57.777778\nnone              55.555556\nadministrator     54.430380\nartist            53.571429\nlibrarian         43.137255\nhealthcare        31.250000\nhomemaker         14.285714\nName: ratio, dtype: float64"
     },
     "execution_count": 66,
     "metadata": {},
     "output_type": "execute_result"
    }
   ],
   "source": [
    "users.groupby('occupation')\\\n",
    "    .gender.value_counts(normalize=True)\\\n",
    "    .loc[(slice(None), 'M')]\\\n",
    "    .sort_values(ascending=False)\\\n",
    "    .rename('ratio') * 100"
   ]
  },
  {
   "cell_type": "markdown",
   "metadata": {
    "pycharm": {
     "name": "#%% md\n"
    }
   },
   "source": [
    "### Step 6. For each occupation, calculate the minimum and maximum ages"
   ]
  },
  {
   "cell_type": "code",
   "execution_count": 67,
   "metadata": {
    "collapsed": false,
    "pycharm": {
     "name": "#%%\n"
    }
   },
   "outputs": [
    {
     "data": {
      "text/plain": "               min  max\noccupation             \nadministrator   21   70\nartist          19   48\ndoctor          28   64\neducator        23   63\nengineer        22   70\nentertainment   15   50\nexecutive       22   69\nhealthcare      22   62\nhomemaker       20   50\nlawyer          21   53\nlibrarian       23   69\nmarketing       24   55\nnone            11   55\nother           13   64\nprogrammer      20   63\nretired         51   73\nsalesman        18   66\nscientist       23   55\nstudent          7   42\ntechnician      21   55\nwriter          18   60",
      "text/html": "<div>\n<style scoped>\n    .dataframe tbody tr th:only-of-type {\n        vertical-align: middle;\n    }\n\n    .dataframe tbody tr th {\n        vertical-align: top;\n    }\n\n    .dataframe thead th {\n        text-align: right;\n    }\n</style>\n<table border=\"1\" class=\"dataframe\">\n  <thead>\n    <tr style=\"text-align: right;\">\n      <th></th>\n      <th>min</th>\n      <th>max</th>\n    </tr>\n    <tr>\n      <th>occupation</th>\n      <th></th>\n      <th></th>\n    </tr>\n  </thead>\n  <tbody>\n    <tr>\n      <th>administrator</th>\n      <td>21</td>\n      <td>70</td>\n    </tr>\n    <tr>\n      <th>artist</th>\n      <td>19</td>\n      <td>48</td>\n    </tr>\n    <tr>\n      <th>doctor</th>\n      <td>28</td>\n      <td>64</td>\n    </tr>\n    <tr>\n      <th>educator</th>\n      <td>23</td>\n      <td>63</td>\n    </tr>\n    <tr>\n      <th>engineer</th>\n      <td>22</td>\n      <td>70</td>\n    </tr>\n    <tr>\n      <th>entertainment</th>\n      <td>15</td>\n      <td>50</td>\n    </tr>\n    <tr>\n      <th>executive</th>\n      <td>22</td>\n      <td>69</td>\n    </tr>\n    <tr>\n      <th>healthcare</th>\n      <td>22</td>\n      <td>62</td>\n    </tr>\n    <tr>\n      <th>homemaker</th>\n      <td>20</td>\n      <td>50</td>\n    </tr>\n    <tr>\n      <th>lawyer</th>\n      <td>21</td>\n      <td>53</td>\n    </tr>\n    <tr>\n      <th>librarian</th>\n      <td>23</td>\n      <td>69</td>\n    </tr>\n    <tr>\n      <th>marketing</th>\n      <td>24</td>\n      <td>55</td>\n    </tr>\n    <tr>\n      <th>none</th>\n      <td>11</td>\n      <td>55</td>\n    </tr>\n    <tr>\n      <th>other</th>\n      <td>13</td>\n      <td>64</td>\n    </tr>\n    <tr>\n      <th>programmer</th>\n      <td>20</td>\n      <td>63</td>\n    </tr>\n    <tr>\n      <th>retired</th>\n      <td>51</td>\n      <td>73</td>\n    </tr>\n    <tr>\n      <th>salesman</th>\n      <td>18</td>\n      <td>66</td>\n    </tr>\n    <tr>\n      <th>scientist</th>\n      <td>23</td>\n      <td>55</td>\n    </tr>\n    <tr>\n      <th>student</th>\n      <td>7</td>\n      <td>42</td>\n    </tr>\n    <tr>\n      <th>technician</th>\n      <td>21</td>\n      <td>55</td>\n    </tr>\n    <tr>\n      <th>writer</th>\n      <td>18</td>\n      <td>60</td>\n    </tr>\n  </tbody>\n</table>\n</div>"
     },
     "execution_count": 67,
     "metadata": {},
     "output_type": "execute_result"
    }
   ],
   "source": [
    "users.groupby('occupation').age.agg(['min', 'max'])"
   ]
  },
  {
   "cell_type": "markdown",
   "metadata": {
    "pycharm": {
     "name": "#%% md\n"
    }
   },
   "source": [
    "### Step 7. For each combination of occupation and gender, calculate the mean age"
   ]
  },
  {
   "cell_type": "code",
   "execution_count": 68,
   "metadata": {
    "collapsed": false,
    "pycharm": {
     "name": "#%%\n"
    }
   },
   "outputs": [
    {
     "data": {
      "text/plain": "occupation     gender\nadministrator  F         40.638889\n               M         37.162791\nartist         F         30.307692\n               M         32.333333\ndoctor         M         43.571429\neducator       F         39.115385\n               M         43.101449\nengineer       F         29.500000\n               M         36.600000\nentertainment  F         31.000000\n               M         29.000000\nexecutive      F         44.000000\n               M         38.172414\nhealthcare     F         39.818182\n               M         45.400000\nhomemaker      F         34.166667\n               M         23.000000\nlawyer         F         39.500000\n               M         36.200000\nlibrarian      F         40.000000\n               M         40.000000\nmarketing      F         37.200000\n               M         37.875000\nnone           F         36.500000\n               M         18.600000\nother          F         35.472222\n               M         34.028986\nprogrammer     F         32.166667\n               M         33.216667\nretired        F         70.000000\n               M         62.538462\nsalesman       F         27.000000\n               M         38.555556\nscientist      F         28.333333\n               M         36.321429\nstudent        F         20.750000\n               M         22.669118\ntechnician     F         38.000000\n               M         32.961538\nwriter         F         37.631579\n               M         35.346154\nName: age, dtype: float64"
     },
     "execution_count": 68,
     "metadata": {},
     "output_type": "execute_result"
    }
   ],
   "source": [
    "users.groupby(['occupation', 'gender']).age.mean()"
   ]
  },
  {
   "cell_type": "markdown",
   "metadata": {
    "pycharm": {
     "name": "#%% md\n"
    }
   },
   "source": [
    "### Step 8.  For each occupation present the percentage of women and men"
   ]
  },
  {
   "cell_type": "code",
   "execution_count": 71,
   "metadata": {
    "collapsed": false,
    "pycharm": {
     "name": "#%%\n"
    }
   },
   "outputs": [
    {
     "data": {
      "text/plain": "occupation     gender\nadministrator  M          54.430380\n               F          45.569620\nartist         M          53.571429\n               F          46.428571\ndoctor         M         100.000000\neducator       M          72.631579\n               F          27.368421\nengineer       M          97.014925\n               F           2.985075\nentertainment  M          88.888889\n               F          11.111111\nexecutive      M          90.625000\n               F           9.375000\nhealthcare     F          68.750000\n               M          31.250000\nhomemaker      F          85.714286\n               M          14.285714\nlawyer         M          83.333333\n               F          16.666667\nlibrarian      F          56.862745\n               M          43.137255\nmarketing      M          61.538462\n               F          38.461538\nnone           M          55.555556\n               F          44.444444\nother          M          65.714286\n               F          34.285714\nprogrammer     M          90.909091\n               F           9.090909\nretired        M          92.857143\n               F           7.142857\nsalesman       M          75.000000\n               F          25.000000\nscientist      M          90.322581\n               F           9.677419\nstudent        M          69.387755\n               F          30.612245\ntechnician     M          96.296296\n               F           3.703704\nwriter         M          57.777778\n               F          42.222222\nName: gender, dtype: float64"
     },
     "execution_count": 71,
     "metadata": {},
     "output_type": "execute_result"
    }
   ],
   "source": [
    "users.groupby('occupation').gender.value_counts(normalize=True) * 100"
   ]
  },
  {
   "cell_type": "code",
   "execution_count": null,
   "outputs": [],
   "source": [],
   "metadata": {
    "collapsed": false,
    "pycharm": {
     "name": "#%%\n"
    }
   }
  }
 ],
 "metadata": {
  "kernelspec": {
   "name": "python3",
   "language": "python",
   "display_name": "Python 3 (ipykernel)"
  },
  "language_info": {
   "codemirror_mode": {
    "name": "ipython",
    "version": 2
   },
   "file_extension": ".py",
   "mimetype": "text/x-python",
   "name": "python",
   "nbconvert_exporter": "python",
   "pygments_lexer": "ipython2",
   "version": "2.7.11"
  }
 },
 "nbformat": 4,
 "nbformat_minor": 0
}