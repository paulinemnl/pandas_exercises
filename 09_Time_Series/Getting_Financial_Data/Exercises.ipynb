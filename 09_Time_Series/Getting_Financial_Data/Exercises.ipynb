{
 "cells": [
  {
   "cell_type": "markdown",
   "metadata": {
    "pycharm": {
     "name": "#%% md\n"
    }
   },
   "source": [
    "# Getting Financial Data - Pandas Datareader"
   ]
  },
  {
   "cell_type": "markdown",
   "metadata": {
    "pycharm": {
     "name": "#%% md\n"
    }
   },
   "source": [
    "### Introduction:\n",
    "\n",
    "This time you will get data from a website.\n",
    "\n",
    "\n",
    "### Step 1. Import the necessary libraries"
   ]
  },
  {
   "cell_type": "code",
   "execution_count": 234,
   "outputs": [],
   "source": [
    "import pandas as pd\n",
    "import datetime\n",
    "import os\n",
    "import pandas_datareader.data as web\n",
    "import numpy as np"
   ],
   "metadata": {
    "collapsed": false,
    "pycharm": {
     "name": "#%%\n"
    }
   }
  },
  {
   "cell_type": "markdown",
   "source": [
    "### Step 2. Create your time range (start and end variables). The start date should be 01/01/2015 and the end should today (whatever your today is)."
   ],
   "metadata": {
    "collapsed": false,
    "pycharm": {
     "name": "#%% md\n"
    }
   }
  },
  {
   "cell_type": "code",
   "execution_count": 235,
   "metadata": {
    "pycharm": {
     "name": "#%%\n"
    }
   },
   "outputs": [
    {
     "data": {
      "text/plain": "datetime.datetime(2015, 1, 1, 0, 0)"
     },
     "execution_count": 235,
     "metadata": {},
     "output_type": "execute_result"
    }
   ],
   "source": [
    "start_date = datetime.datetime(2015, 1, 1)\n",
    "end_date = datetime.datetime.now()\n",
    "start_date"
   ]
  },
  {
   "cell_type": "markdown",
   "metadata": {
    "pycharm": {
     "name": "#%% md\n"
    }
   },
   "source": [
    "### Step 3. Get an API key for one of the APIs that are supported by Pandas Datareader, preferably for AlphaVantage.\n",
    "\n",
    "If you do not have an API key for any of the supported APIs, it is easiest to get one for [AlphaVantage](https://www.alphavantage.co/support/#api-key). (Note that the API key is shown directly after the signup. You do *not* receive it via e-mail.)\n",
    "\n",
    "(For a full list of the APIs that are supported by Pandas Datareader, [see here](https://pydata.github.io/pandas-datareader/readers/index.html). As the APIs are provided by third parties, this list may change.)"
   ]
  },
  {
   "cell_type": "markdown",
   "metadata": {
    "pycharm": {
     "name": "#%% md\n"
    }
   },
   "source": [
    "### Step 4. Use Pandas Datarader to read the daily time series for the Apple stock (ticker symbol AAPL) between 01/01/2015 and today, assign it to df_apple and print it."
   ]
  },
  {
   "cell_type": "code",
   "execution_count": 236,
   "metadata": {
    "pycharm": {
     "name": "#%%\n"
    }
   },
   "outputs": [
    {
     "data": {
      "text/plain": "               open     high      low   close    volume\n2015-01-02  111.390  111.440  107.350  109.33  53204626\n2015-01-05  108.290  108.650  105.410  106.25  64285491\n2015-01-06  106.540  107.430  104.630  106.26  65797116\n2015-01-07  107.200  108.200  106.695  107.75  40105934\n2015-01-08  109.230  112.150  108.700  111.89  59364547\n...             ...      ...      ...     ...       ...\n2022-09-01  156.640  158.420  154.670  157.96  74229896\n2022-09-02  159.750  160.362  154.965  155.81  76957768\n2022-09-06  156.470  157.090  153.690  154.53  73295539\n2022-09-07  154.825  156.670  153.610  155.96  87449574\n2022-09-08  154.640  156.360  152.680  154.46  84923847\n\n[1935 rows x 5 columns]",
      "text/html": "<div>\n<style scoped>\n    .dataframe tbody tr th:only-of-type {\n        vertical-align: middle;\n    }\n\n    .dataframe tbody tr th {\n        vertical-align: top;\n    }\n\n    .dataframe thead th {\n        text-align: right;\n    }\n</style>\n<table border=\"1\" class=\"dataframe\">\n  <thead>\n    <tr style=\"text-align: right;\">\n      <th></th>\n      <th>open</th>\n      <th>high</th>\n      <th>low</th>\n      <th>close</th>\n      <th>volume</th>\n    </tr>\n  </thead>\n  <tbody>\n    <tr>\n      <th>2015-01-02</th>\n      <td>111.390</td>\n      <td>111.440</td>\n      <td>107.350</td>\n      <td>109.33</td>\n      <td>53204626</td>\n    </tr>\n    <tr>\n      <th>2015-01-05</th>\n      <td>108.290</td>\n      <td>108.650</td>\n      <td>105.410</td>\n      <td>106.25</td>\n      <td>64285491</td>\n    </tr>\n    <tr>\n      <th>2015-01-06</th>\n      <td>106.540</td>\n      <td>107.430</td>\n      <td>104.630</td>\n      <td>106.26</td>\n      <td>65797116</td>\n    </tr>\n    <tr>\n      <th>2015-01-07</th>\n      <td>107.200</td>\n      <td>108.200</td>\n      <td>106.695</td>\n      <td>107.75</td>\n      <td>40105934</td>\n    </tr>\n    <tr>\n      <th>2015-01-08</th>\n      <td>109.230</td>\n      <td>112.150</td>\n      <td>108.700</td>\n      <td>111.89</td>\n      <td>59364547</td>\n    </tr>\n    <tr>\n      <th>...</th>\n      <td>...</td>\n      <td>...</td>\n      <td>...</td>\n      <td>...</td>\n      <td>...</td>\n    </tr>\n    <tr>\n      <th>2022-09-01</th>\n      <td>156.640</td>\n      <td>158.420</td>\n      <td>154.670</td>\n      <td>157.96</td>\n      <td>74229896</td>\n    </tr>\n    <tr>\n      <th>2022-09-02</th>\n      <td>159.750</td>\n      <td>160.362</td>\n      <td>154.965</td>\n      <td>155.81</td>\n      <td>76957768</td>\n    </tr>\n    <tr>\n      <th>2022-09-06</th>\n      <td>156.470</td>\n      <td>157.090</td>\n      <td>153.690</td>\n      <td>154.53</td>\n      <td>73295539</td>\n    </tr>\n    <tr>\n      <th>2022-09-07</th>\n      <td>154.825</td>\n      <td>156.670</td>\n      <td>153.610</td>\n      <td>155.96</td>\n      <td>87449574</td>\n    </tr>\n    <tr>\n      <th>2022-09-08</th>\n      <td>154.640</td>\n      <td>156.360</td>\n      <td>152.680</td>\n      <td>154.46</td>\n      <td>84923847</td>\n    </tr>\n  </tbody>\n</table>\n<p>1935 rows × 5 columns</p>\n</div>"
     },
     "execution_count": 236,
     "metadata": {},
     "output_type": "execute_result"
    }
   ],
   "source": [
    "df_apple = web.DataReader('AAPL', 'av-daily', start=start_date, end=end_date,  api_key=os.getenv('ALPHAVANTAGE_API_KEY'))\n",
    "df_apple"
   ]
  },
  {
   "cell_type": "markdown",
   "metadata": {
    "pycharm": {
     "name": "#%% md\n"
    }
   },
   "source": [
    "### Step 5. Add a new column \"stock\" to the dataframe and add the ticker symbol"
   ]
  },
  {
   "cell_type": "code",
   "execution_count": 237,
   "metadata": {
    "pycharm": {
     "name": "#%%\n"
    }
   },
   "outputs": [
    {
     "data": {
      "text/plain": "               open     high      low   close    volume stock\n2015-01-02  111.390  111.440  107.350  109.33  53204626  AAPL\n2015-01-05  108.290  108.650  105.410  106.25  64285491  AAPL\n2015-01-06  106.540  107.430  104.630  106.26  65797116  AAPL\n2015-01-07  107.200  108.200  106.695  107.75  40105934  AAPL\n2015-01-08  109.230  112.150  108.700  111.89  59364547  AAPL\n...             ...      ...      ...     ...       ...   ...\n2022-09-01  156.640  158.420  154.670  157.96  74229896  AAPL\n2022-09-02  159.750  160.362  154.965  155.81  76957768  AAPL\n2022-09-06  156.470  157.090  153.690  154.53  73295539  AAPL\n2022-09-07  154.825  156.670  153.610  155.96  87449574  AAPL\n2022-09-08  154.640  156.360  152.680  154.46  84923847  AAPL\n\n[1935 rows x 6 columns]",
      "text/html": "<div>\n<style scoped>\n    .dataframe tbody tr th:only-of-type {\n        vertical-align: middle;\n    }\n\n    .dataframe tbody tr th {\n        vertical-align: top;\n    }\n\n    .dataframe thead th {\n        text-align: right;\n    }\n</style>\n<table border=\"1\" class=\"dataframe\">\n  <thead>\n    <tr style=\"text-align: right;\">\n      <th></th>\n      <th>open</th>\n      <th>high</th>\n      <th>low</th>\n      <th>close</th>\n      <th>volume</th>\n      <th>stock</th>\n    </tr>\n  </thead>\n  <tbody>\n    <tr>\n      <th>2015-01-02</th>\n      <td>111.390</td>\n      <td>111.440</td>\n      <td>107.350</td>\n      <td>109.33</td>\n      <td>53204626</td>\n      <td>AAPL</td>\n    </tr>\n    <tr>\n      <th>2015-01-05</th>\n      <td>108.290</td>\n      <td>108.650</td>\n      <td>105.410</td>\n      <td>106.25</td>\n      <td>64285491</td>\n      <td>AAPL</td>\n    </tr>\n    <tr>\n      <th>2015-01-06</th>\n      <td>106.540</td>\n      <td>107.430</td>\n      <td>104.630</td>\n      <td>106.26</td>\n      <td>65797116</td>\n      <td>AAPL</td>\n    </tr>\n    <tr>\n      <th>2015-01-07</th>\n      <td>107.200</td>\n      <td>108.200</td>\n      <td>106.695</td>\n      <td>107.75</td>\n      <td>40105934</td>\n      <td>AAPL</td>\n    </tr>\n    <tr>\n      <th>2015-01-08</th>\n      <td>109.230</td>\n      <td>112.150</td>\n      <td>108.700</td>\n      <td>111.89</td>\n      <td>59364547</td>\n      <td>AAPL</td>\n    </tr>\n    <tr>\n      <th>...</th>\n      <td>...</td>\n      <td>...</td>\n      <td>...</td>\n      <td>...</td>\n      <td>...</td>\n      <td>...</td>\n    </tr>\n    <tr>\n      <th>2022-09-01</th>\n      <td>156.640</td>\n      <td>158.420</td>\n      <td>154.670</td>\n      <td>157.96</td>\n      <td>74229896</td>\n      <td>AAPL</td>\n    </tr>\n    <tr>\n      <th>2022-09-02</th>\n      <td>159.750</td>\n      <td>160.362</td>\n      <td>154.965</td>\n      <td>155.81</td>\n      <td>76957768</td>\n      <td>AAPL</td>\n    </tr>\n    <tr>\n      <th>2022-09-06</th>\n      <td>156.470</td>\n      <td>157.090</td>\n      <td>153.690</td>\n      <td>154.53</td>\n      <td>73295539</td>\n      <td>AAPL</td>\n    </tr>\n    <tr>\n      <th>2022-09-07</th>\n      <td>154.825</td>\n      <td>156.670</td>\n      <td>153.610</td>\n      <td>155.96</td>\n      <td>87449574</td>\n      <td>AAPL</td>\n    </tr>\n    <tr>\n      <th>2022-09-08</th>\n      <td>154.640</td>\n      <td>156.360</td>\n      <td>152.680</td>\n      <td>154.46</td>\n      <td>84923847</td>\n      <td>AAPL</td>\n    </tr>\n  </tbody>\n</table>\n<p>1935 rows × 6 columns</p>\n</div>"
     },
     "execution_count": 237,
     "metadata": {},
     "output_type": "execute_result"
    }
   ],
   "source": [
    "df_apple['stock'] = 'AAPL'\n",
    "df_apple"
   ]
  },
  {
   "cell_type": "markdown",
   "metadata": {
    "pycharm": {
     "name": "#%% md\n"
    }
   },
   "source": [
    "### Step 6. Repeat the two previous steps for a few other stocks, always creating a new dataframe: Tesla, IBM and Microsoft. (Ticker symbols TSLA, IBM and MSFT.)"
   ]
  },
  {
   "cell_type": "code",
   "execution_count": 238,
   "metadata": {
    "pycharm": {
     "name": "#%%\n"
    }
   },
   "outputs": [],
   "source": [
    "df_tesla = web.DataReader('TSLA', 'av-daily', start=start_date, end=end_date,  api_key=os.getenv('ALPHAVANTAGE_API_KEY'))\n",
    "df_tesla['stock'] = 'TSLA'\n",
    "df_IBM = web.DataReader('IBM', 'av-daily', start=start_date, end=end_date,  api_key=os.getenv('ALPHAVANTAGE_API_KEY'))\n",
    "df_IBM['stock'] = 'IBM'\n",
    "df_microsoft= web.DataReader('MSFT', 'av-daily', start=start_date, end=end_date,  api_key=os.getenv('ALPHAVANTAGE_API_KEY'))\n",
    "df_microsoft['stock'] = 'MSFT'"
   ]
  },
  {
   "cell_type": "markdown",
   "metadata": {
    "pycharm": {
     "name": "#%% md\n"
    }
   },
   "source": [
    "### Step 7. Combine the four separate dataFrames into one combined dataFrame df that holds the information for all four stocks"
   ]
  },
  {
   "cell_type": "code",
   "execution_count": 239,
   "metadata": {
    "pycharm": {
     "name": "#%%\n"
    }
   },
   "outputs": [
    {
     "data": {
      "text/plain": "               open    high      low   close    volume stock\n2015-01-02  111.390  111.44  107.350  109.33  53204626  AAPL\n2015-01-05  108.290  108.65  105.410  106.25  64285491  AAPL\n2015-01-06  106.540  107.43  104.630  106.26  65797116  AAPL\n2015-01-07  107.200  108.20  106.695  107.75  40105934  AAPL\n2015-01-08  109.230  112.15  108.700  111.89  59364547  AAPL\n...             ...     ...      ...     ...       ...   ...\n2022-09-01  258.870  260.89  255.410  260.40  23263431  MSFT\n2022-09-02  261.695  264.74  254.470  256.06  22855380  MSFT\n2022-09-06  256.200  257.83  251.940  253.25  21283869  MSFT\n2022-09-07  254.700  258.83  253.220  258.09  24126700  MSFT\n2022-09-08  257.510  260.43  254.790  258.52  20319911  MSFT\n\n[7740 rows x 6 columns]",
      "text/html": "<div>\n<style scoped>\n    .dataframe tbody tr th:only-of-type {\n        vertical-align: middle;\n    }\n\n    .dataframe tbody tr th {\n        vertical-align: top;\n    }\n\n    .dataframe thead th {\n        text-align: right;\n    }\n</style>\n<table border=\"1\" class=\"dataframe\">\n  <thead>\n    <tr style=\"text-align: right;\">\n      <th></th>\n      <th>open</th>\n      <th>high</th>\n      <th>low</th>\n      <th>close</th>\n      <th>volume</th>\n      <th>stock</th>\n    </tr>\n  </thead>\n  <tbody>\n    <tr>\n      <th>2015-01-02</th>\n      <td>111.390</td>\n      <td>111.44</td>\n      <td>107.350</td>\n      <td>109.33</td>\n      <td>53204626</td>\n      <td>AAPL</td>\n    </tr>\n    <tr>\n      <th>2015-01-05</th>\n      <td>108.290</td>\n      <td>108.65</td>\n      <td>105.410</td>\n      <td>106.25</td>\n      <td>64285491</td>\n      <td>AAPL</td>\n    </tr>\n    <tr>\n      <th>2015-01-06</th>\n      <td>106.540</td>\n      <td>107.43</td>\n      <td>104.630</td>\n      <td>106.26</td>\n      <td>65797116</td>\n      <td>AAPL</td>\n    </tr>\n    <tr>\n      <th>2015-01-07</th>\n      <td>107.200</td>\n      <td>108.20</td>\n      <td>106.695</td>\n      <td>107.75</td>\n      <td>40105934</td>\n      <td>AAPL</td>\n    </tr>\n    <tr>\n      <th>2015-01-08</th>\n      <td>109.230</td>\n      <td>112.15</td>\n      <td>108.700</td>\n      <td>111.89</td>\n      <td>59364547</td>\n      <td>AAPL</td>\n    </tr>\n    <tr>\n      <th>...</th>\n      <td>...</td>\n      <td>...</td>\n      <td>...</td>\n      <td>...</td>\n      <td>...</td>\n      <td>...</td>\n    </tr>\n    <tr>\n      <th>2022-09-01</th>\n      <td>258.870</td>\n      <td>260.89</td>\n      <td>255.410</td>\n      <td>260.40</td>\n      <td>23263431</td>\n      <td>MSFT</td>\n    </tr>\n    <tr>\n      <th>2022-09-02</th>\n      <td>261.695</td>\n      <td>264.74</td>\n      <td>254.470</td>\n      <td>256.06</td>\n      <td>22855380</td>\n      <td>MSFT</td>\n    </tr>\n    <tr>\n      <th>2022-09-06</th>\n      <td>256.200</td>\n      <td>257.83</td>\n      <td>251.940</td>\n      <td>253.25</td>\n      <td>21283869</td>\n      <td>MSFT</td>\n    </tr>\n    <tr>\n      <th>2022-09-07</th>\n      <td>254.700</td>\n      <td>258.83</td>\n      <td>253.220</td>\n      <td>258.09</td>\n      <td>24126700</td>\n      <td>MSFT</td>\n    </tr>\n    <tr>\n      <th>2022-09-08</th>\n      <td>257.510</td>\n      <td>260.43</td>\n      <td>254.790</td>\n      <td>258.52</td>\n      <td>20319911</td>\n      <td>MSFT</td>\n    </tr>\n  </tbody>\n</table>\n<p>7740 rows × 6 columns</p>\n</div>"
     },
     "execution_count": 239,
     "metadata": {},
     "output_type": "execute_result"
    }
   ],
   "source": [
    "df = pd.concat([df_apple, df_tesla, df_IBM, df_microsoft])\n",
    "df"
   ]
  },
  {
   "cell_type": "markdown",
   "metadata": {
    "pycharm": {
     "name": "#%% md\n"
    }
   },
   "source": [
    "### Step 8. Shift the stock column into the index (making it a multi-level index consisting of the ticker symbol and the date)."
   ]
  },
  {
   "cell_type": "code",
   "execution_count": 240,
   "outputs": [
    {
     "data": {
      "text/plain": "                     open    high      low   close    volume\n           stock                                            \n2015-01-02 AAPL   111.390  111.44  107.350  109.33  53204626\n2015-01-05 AAPL   108.290  108.65  105.410  106.25  64285491\n2015-01-06 AAPL   106.540  107.43  104.630  106.26  65797116\n2015-01-07 AAPL   107.200  108.20  106.695  107.75  40105934\n2015-01-08 AAPL   109.230  112.15  108.700  111.89  59364547\n...                   ...     ...      ...     ...       ...\n2022-09-01 MSFT   258.870  260.89  255.410  260.40  23263431\n2022-09-02 MSFT   261.695  264.74  254.470  256.06  22855380\n2022-09-06 MSFT   256.200  257.83  251.940  253.25  21283869\n2022-09-07 MSFT   254.700  258.83  253.220  258.09  24126700\n2022-09-08 MSFT   257.510  260.43  254.790  258.52  20319911\n\n[7740 rows x 5 columns]",
      "text/html": "<div>\n<style scoped>\n    .dataframe tbody tr th:only-of-type {\n        vertical-align: middle;\n    }\n\n    .dataframe tbody tr th {\n        vertical-align: top;\n    }\n\n    .dataframe thead th {\n        text-align: right;\n    }\n</style>\n<table border=\"1\" class=\"dataframe\">\n  <thead>\n    <tr style=\"text-align: right;\">\n      <th></th>\n      <th></th>\n      <th>open</th>\n      <th>high</th>\n      <th>low</th>\n      <th>close</th>\n      <th>volume</th>\n    </tr>\n    <tr>\n      <th></th>\n      <th>stock</th>\n      <th></th>\n      <th></th>\n      <th></th>\n      <th></th>\n      <th></th>\n    </tr>\n  </thead>\n  <tbody>\n    <tr>\n      <th>2015-01-02</th>\n      <th>AAPL</th>\n      <td>111.390</td>\n      <td>111.44</td>\n      <td>107.350</td>\n      <td>109.33</td>\n      <td>53204626</td>\n    </tr>\n    <tr>\n      <th>2015-01-05</th>\n      <th>AAPL</th>\n      <td>108.290</td>\n      <td>108.65</td>\n      <td>105.410</td>\n      <td>106.25</td>\n      <td>64285491</td>\n    </tr>\n    <tr>\n      <th>2015-01-06</th>\n      <th>AAPL</th>\n      <td>106.540</td>\n      <td>107.43</td>\n      <td>104.630</td>\n      <td>106.26</td>\n      <td>65797116</td>\n    </tr>\n    <tr>\n      <th>2015-01-07</th>\n      <th>AAPL</th>\n      <td>107.200</td>\n      <td>108.20</td>\n      <td>106.695</td>\n      <td>107.75</td>\n      <td>40105934</td>\n    </tr>\n    <tr>\n      <th>2015-01-08</th>\n      <th>AAPL</th>\n      <td>109.230</td>\n      <td>112.15</td>\n      <td>108.700</td>\n      <td>111.89</td>\n      <td>59364547</td>\n    </tr>\n    <tr>\n      <th>...</th>\n      <th>...</th>\n      <td>...</td>\n      <td>...</td>\n      <td>...</td>\n      <td>...</td>\n      <td>...</td>\n    </tr>\n    <tr>\n      <th>2022-09-01</th>\n      <th>MSFT</th>\n      <td>258.870</td>\n      <td>260.89</td>\n      <td>255.410</td>\n      <td>260.40</td>\n      <td>23263431</td>\n    </tr>\n    <tr>\n      <th>2022-09-02</th>\n      <th>MSFT</th>\n      <td>261.695</td>\n      <td>264.74</td>\n      <td>254.470</td>\n      <td>256.06</td>\n      <td>22855380</td>\n    </tr>\n    <tr>\n      <th>2022-09-06</th>\n      <th>MSFT</th>\n      <td>256.200</td>\n      <td>257.83</td>\n      <td>251.940</td>\n      <td>253.25</td>\n      <td>21283869</td>\n    </tr>\n    <tr>\n      <th>2022-09-07</th>\n      <th>MSFT</th>\n      <td>254.700</td>\n      <td>258.83</td>\n      <td>253.220</td>\n      <td>258.09</td>\n      <td>24126700</td>\n    </tr>\n    <tr>\n      <th>2022-09-08</th>\n      <th>MSFT</th>\n      <td>257.510</td>\n      <td>260.43</td>\n      <td>254.790</td>\n      <td>258.52</td>\n      <td>20319911</td>\n    </tr>\n  </tbody>\n</table>\n<p>7740 rows × 5 columns</p>\n</div>"
     },
     "execution_count": 240,
     "metadata": {},
     "output_type": "execute_result"
    }
   ],
   "source": [
    "df.set_index(['stock'], append=True, inplace=True)\n",
    "df"
   ],
   "metadata": {
    "collapsed": false,
    "pycharm": {
     "name": "#%%\n"
    }
   }
  },
  {
   "cell_type": "markdown",
   "metadata": {
    "pycharm": {
     "name": "#%% md\n"
    }
   },
   "source": [
    "### Step 7. Create a dataFrame called vol, with the volume values."
   ]
  },
  {
   "cell_type": "code",
   "execution_count": 241,
   "metadata": {
    "pycharm": {
     "name": "#%%\n"
    }
   },
   "outputs": [
    {
     "data": {
      "text/plain": "                    volume\n           stock          \n2015-01-02 AAPL   53204626\n2015-01-05 AAPL   64285491\n2015-01-06 AAPL   65797116\n2015-01-07 AAPL   40105934\n2015-01-08 AAPL   59364547\n...                    ...\n2022-09-01 MSFT   23263431\n2022-09-02 MSFT   22855380\n2022-09-06 MSFT   21283869\n2022-09-07 MSFT   24126700\n2022-09-08 MSFT   20319911\n\n[7740 rows x 1 columns]",
      "text/html": "<div>\n<style scoped>\n    .dataframe tbody tr th:only-of-type {\n        vertical-align: middle;\n    }\n\n    .dataframe tbody tr th {\n        vertical-align: top;\n    }\n\n    .dataframe thead th {\n        text-align: right;\n    }\n</style>\n<table border=\"1\" class=\"dataframe\">\n  <thead>\n    <tr style=\"text-align: right;\">\n      <th></th>\n      <th></th>\n      <th>volume</th>\n    </tr>\n    <tr>\n      <th></th>\n      <th>stock</th>\n      <th></th>\n    </tr>\n  </thead>\n  <tbody>\n    <tr>\n      <th>2015-01-02</th>\n      <th>AAPL</th>\n      <td>53204626</td>\n    </tr>\n    <tr>\n      <th>2015-01-05</th>\n      <th>AAPL</th>\n      <td>64285491</td>\n    </tr>\n    <tr>\n      <th>2015-01-06</th>\n      <th>AAPL</th>\n      <td>65797116</td>\n    </tr>\n    <tr>\n      <th>2015-01-07</th>\n      <th>AAPL</th>\n      <td>40105934</td>\n    </tr>\n    <tr>\n      <th>2015-01-08</th>\n      <th>AAPL</th>\n      <td>59364547</td>\n    </tr>\n    <tr>\n      <th>...</th>\n      <th>...</th>\n      <td>...</td>\n    </tr>\n    <tr>\n      <th>2022-09-01</th>\n      <th>MSFT</th>\n      <td>23263431</td>\n    </tr>\n    <tr>\n      <th>2022-09-02</th>\n      <th>MSFT</th>\n      <td>22855380</td>\n    </tr>\n    <tr>\n      <th>2022-09-06</th>\n      <th>MSFT</th>\n      <td>21283869</td>\n    </tr>\n    <tr>\n      <th>2022-09-07</th>\n      <th>MSFT</th>\n      <td>24126700</td>\n    </tr>\n    <tr>\n      <th>2022-09-08</th>\n      <th>MSFT</th>\n      <td>20319911</td>\n    </tr>\n  </tbody>\n</table>\n<p>7740 rows × 1 columns</p>\n</div>"
     },
     "execution_count": 241,
     "metadata": {},
     "output_type": "execute_result"
    }
   ],
   "source": [
    "vol = df[['volume']].copy()\n",
    "vol"
   ]
  },
  {
   "cell_type": "markdown",
   "source": [
    "### Step 8. Aggregate the data of volume to weekly.\n",
    "Hint: Be careful to not sum data from the same week of 2015 and other years."
   ],
   "metadata": {
    "collapsed": false,
    "pycharm": {
     "name": "#%% md\n"
    }
   }
  },
  {
   "cell_type": "markdown",
   "source": [
    "vol.loc[2018-12-31] даст 2019 год и первую рабочую неделю (ISO dates are defined a little differently than you might expect (explained [here](http://en.wikipedia.org/wiki/ISO_week_date)))\n",
    "Источник: [1](https://stackoverflow.com/a/72095463), [2](https://stackoverflow.com/a/12662547)"
   ],
   "metadata": {
    "collapsed": false,
    "pycharm": {
     "name": "#%% md\n"
    }
   }
  },
  {
   "cell_type": "code",
   "execution_count": 242,
   "outputs": [
    {
     "data": {
      "text/plain": "stock           AAPL       IBM       MSFT       TSLA\nyear week                                           \n2015 1      53204626   5525341   27913852    4764443\n     2     282868187  24440360  158596624   22622034\n     3     304226647  23272056  157088136   30799137\n     4     198737041  31230797  137352632   16215501\n     5     465842684  32927307  437786778   15720217\n...              ...       ...        ...        ...\n2022 32    318856922  17254110  109536514  143447053\n     33    322647151  17105977   92198119  118385794\n     34    307194601  16982107  104858212  169020694\n     35    389809404  15086608  113799087  249374939\n     36    245668960   8711469   65730480  159347287\n\n[402 rows x 4 columns]",
      "text/html": "<div>\n<style scoped>\n    .dataframe tbody tr th:only-of-type {\n        vertical-align: middle;\n    }\n\n    .dataframe tbody tr th {\n        vertical-align: top;\n    }\n\n    .dataframe thead th {\n        text-align: right;\n    }\n</style>\n<table border=\"1\" class=\"dataframe\">\n  <thead>\n    <tr style=\"text-align: right;\">\n      <th></th>\n      <th>stock</th>\n      <th>AAPL</th>\n      <th>IBM</th>\n      <th>MSFT</th>\n      <th>TSLA</th>\n    </tr>\n    <tr>\n      <th>year</th>\n      <th>week</th>\n      <th></th>\n      <th></th>\n      <th></th>\n      <th></th>\n    </tr>\n  </thead>\n  <tbody>\n    <tr>\n      <th rowspan=\"5\" valign=\"top\">2015</th>\n      <th>1</th>\n      <td>53204626</td>\n      <td>5525341</td>\n      <td>27913852</td>\n      <td>4764443</td>\n    </tr>\n    <tr>\n      <th>2</th>\n      <td>282868187</td>\n      <td>24440360</td>\n      <td>158596624</td>\n      <td>22622034</td>\n    </tr>\n    <tr>\n      <th>3</th>\n      <td>304226647</td>\n      <td>23272056</td>\n      <td>157088136</td>\n      <td>30799137</td>\n    </tr>\n    <tr>\n      <th>4</th>\n      <td>198737041</td>\n      <td>31230797</td>\n      <td>137352632</td>\n      <td>16215501</td>\n    </tr>\n    <tr>\n      <th>5</th>\n      <td>465842684</td>\n      <td>32927307</td>\n      <td>437786778</td>\n      <td>15720217</td>\n    </tr>\n    <tr>\n      <th>...</th>\n      <th>...</th>\n      <td>...</td>\n      <td>...</td>\n      <td>...</td>\n      <td>...</td>\n    </tr>\n    <tr>\n      <th rowspan=\"5\" valign=\"top\">2022</th>\n      <th>32</th>\n      <td>318856922</td>\n      <td>17254110</td>\n      <td>109536514</td>\n      <td>143447053</td>\n    </tr>\n    <tr>\n      <th>33</th>\n      <td>322647151</td>\n      <td>17105977</td>\n      <td>92198119</td>\n      <td>118385794</td>\n    </tr>\n    <tr>\n      <th>34</th>\n      <td>307194601</td>\n      <td>16982107</td>\n      <td>104858212</td>\n      <td>169020694</td>\n    </tr>\n    <tr>\n      <th>35</th>\n      <td>389809404</td>\n      <td>15086608</td>\n      <td>113799087</td>\n      <td>249374939</td>\n    </tr>\n    <tr>\n      <th>36</th>\n      <td>245668960</td>\n      <td>8711469</td>\n      <td>65730480</td>\n      <td>159347287</td>\n    </tr>\n  </tbody>\n</table>\n<p>402 rows × 4 columns</p>\n</div>"
     },
     "execution_count": 242,
     "metadata": {},
     "output_type": "execute_result"
    }
   ],
   "source": [
    "vol.index = vol.index.set_levels([pd.to_datetime(vol.index.levels[0]), vol.index.levels[1]])\n",
    "vol[['week', 'year']] = vol.index.get_level_values(0).isocalendar()[['week', 'year']].values  # vol.loc[2018-12-31] даст 2019 год и первую рабочую неделю (ISO dates are defined a little differently than you might expect (explained here))\n",
    "pt_vol = pd.pivot_table(vol, values='volume', index=['year', 'week'], columns=['stock'], aggfunc=np.sum)\n",
    "pt_vol"
   ],
   "metadata": {
    "collapsed": false,
    "pycharm": {
     "name": "#%%\n"
    }
   }
  },
  {
   "cell_type": "markdown",
   "metadata": {
    "pycharm": {
     "name": "#%% md\n"
    }
   },
   "source": [
    "### Step 9. Find all the volume traded in the year of 2015"
   ]
  },
  {
   "cell_type": "code",
   "execution_count": 243,
   "outputs": [
    {
     "data": {
      "text/plain": "stock         AAPL         IBM        MSFT        TSLA\nyear                                                  \n2015   13064316775  1105545521  9057582311  1086708380",
      "text/html": "<div>\n<style scoped>\n    .dataframe tbody tr th:only-of-type {\n        vertical-align: middle;\n    }\n\n    .dataframe tbody tr th {\n        vertical-align: top;\n    }\n\n    .dataframe thead th {\n        text-align: right;\n    }\n</style>\n<table border=\"1\" class=\"dataframe\">\n  <thead>\n    <tr style=\"text-align: right;\">\n      <th>stock</th>\n      <th>AAPL</th>\n      <th>IBM</th>\n      <th>MSFT</th>\n      <th>TSLA</th>\n    </tr>\n    <tr>\n      <th>year</th>\n      <th></th>\n      <th></th>\n      <th></th>\n      <th></th>\n    </tr>\n  </thead>\n  <tbody>\n    <tr>\n      <th>2015</th>\n      <td>13064316775</td>\n      <td>1105545521</td>\n      <td>9057582311</td>\n      <td>1086708380</td>\n    </tr>\n  </tbody>\n</table>\n</div>"
     },
     "execution_count": 243,
     "metadata": {},
     "output_type": "execute_result"
    }
   ],
   "source": [
    "(pt_vol.groupby(level=0).sum()).loc[[2015]]"
   ],
   "metadata": {
    "collapsed": false,
    "pycharm": {
     "name": "#%%\n"
    }
   }
  },
  {
   "cell_type": "code",
   "execution_count": 244,
   "outputs": [
    {
     "data": {
      "text/plain": "stock\nAAPL    13064316775\nIBM      1105545521\nMSFT     9057582311\nTSLA     1086708380\ndtype: int64"
     },
     "execution_count": 244,
     "metadata": {},
     "output_type": "execute_result"
    }
   ],
   "source": [
    "pt_vol.loc[[2015]].sum()"
   ],
   "metadata": {
    "collapsed": false,
    "pycharm": {
     "name": "#%%\n"
    }
   }
  },
  {
   "cell_type": "code",
   "execution_count": 244,
   "outputs": [],
   "source": [],
   "metadata": {
    "collapsed": false,
    "pycharm": {
     "name": "#%%\n"
    }
   }
  }
 ],
 "metadata": {
  "kernelspec": {
   "display_name": "Python 3",
   "language": "python",
   "name": "python3"
  },
  "language_info": {
   "codemirror_mode": {
    "name": "ipython",
    "version": 3
   },
   "file_extension": ".py",
   "mimetype": "text/x-python",
   "name": "python",
   "nbconvert_exporter": "python",
   "pygments_lexer": "ipython3",
   "version": "3.7.4"
  }
 },
 "nbformat": 4,
 "nbformat_minor": 1
}